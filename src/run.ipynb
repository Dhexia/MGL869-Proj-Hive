{
 "cells": [
  {
   "cell_type": "markdown",
   "id": "9aa166c8f436bbb8",
   "metadata": {},
   "source": [
    "# MGL869 - Lab\n",
    "\n",
    "*MGL869 ETS Montreal - Production engineering*\n",
    "\n",
    "## Abstract\n",
    "\n",
    "## Authors\n",
    "- **Léo FORNOFF**\n",
    "- **William PHAN**\n",
    "- **Yannis OUAKRIM**"
   ]
  },
  {
   "cell_type": "markdown",
   "id": "cc574ebf57602201",
   "metadata": {},
   "source": [
    "---\n",
    "\n",
    "## Part 1 : Data collection"
   ]
  },
  {
   "cell_type": "code",
   "execution_count": 1,
   "id": "b5caf94fc63fdaf4",
   "metadata": {
    "ExecuteTime": {
     "end_time": "2024-11-20T23:44:33.397217Z",
     "start_time": "2024-11-20T23:44:31.076236Z"
    }
   },
   "outputs": [],
   "source": [
    "from Jira import jira_download\n",
    "from pandas import Index\n",
    "from numpy import ndarray"
   ]
  },
  {
   "cell_type": "markdown",
   "id": "af4622a84f52ca68",
   "metadata": {},
   "source": [
    "\n",
    "### 1.1 - Download Jira data\n",
    "We download data if they are not already present in the data folder.\n",
    "\n",
    "Return the dataframe of the data.\n",
    "\n",
    "Query filter can be defined in config.ini"
   ]
  },
  {
   "cell_type": "code",
   "execution_count": 2,
   "id": "d4971d821b405286",
   "metadata": {
    "ExecuteTime": {
     "end_time": "2024-11-20T23:47:00.218802Z",
     "start_time": "2024-11-20T23:46:59.751178Z"
    }
   },
   "outputs": [
    {
     "name": "stdout",
     "output_type": "stream",
     "text": [
      "Data already downloaded\n",
      "Filter = 'project=HIVE AND issuetype=Bug AND status in (Resolved, Closed) AND affectedVersion>= 2.0.0'\n"
     ]
    }
   ],
   "source": [
    "jira_dataframe = jira_download()"
   ]
  },
  {
   "cell_type": "markdown",
   "id": "f8f051f67cbe342b",
   "metadata": {},
   "source": [
    "### 1.2 - Clean Jira data using pandas\n",
    "Previously, we downloaded all the data from Jira. Now, we will clean the data using pandas.\n",
    "We will keep only some colums and combine some columns."
   ]
  },
  {
   "cell_type": "code",
   "execution_count": 3,
   "id": "b6c04fde21e36891",
   "metadata": {},
   "outputs": [],
   "source": [
    "keep: [str] = ['Issue key', 'Status', 'Resolution', 'Created', 'Fix Versions Combined', 'Affects Versions Combined']"
   ]
  },
  {
   "cell_type": "code",
   "execution_count": 4,
   "id": "2d3d14c6e651890b",
   "metadata": {},
   "outputs": [],
   "source": [
    "affects_version_columns: [str] = [col for col in jira_dataframe.columns if col.startswith('Affects Version/s')]\n",
    "jira_dataframe['Affects Versions Combined'] = jira_dataframe[affects_version_columns].apply(\n",
    "    lambda x: ', '.join(x.dropna().astype(str)), axis=1\n",
    ")"
   ]
  },
  {
   "cell_type": "code",
   "execution_count": 5,
   "id": "1571fc3d63fa3d49",
   "metadata": {},
   "outputs": [],
   "source": [
    "# Combine the versions into a single column\n",
    "fix_version_columns: [str] = [col for col in jira_dataframe.columns if col.startswith('Fix Version/s')]\n",
    "\n",
    "jira_dataframe['Fix Versions Combined'] = jira_dataframe[fix_version_columns].apply(\n",
    "    lambda x: ', '.join(x.dropna().astype(str)), axis=1\n",
    ")\n",
    "jira_dataframe = jira_dataframe.loc[:, keep]"
   ]
  },
  {
   "cell_type": "code",
   "execution_count": 6,
   "id": "7229ab85b247aa84",
   "metadata": {},
   "outputs": [],
   "source": [
    "# Identify columns whose names contain the string 'Issue key'\n",
    "issue_key_columns: Index = jira_dataframe.columns[jira_dataframe.columns.str.contains('Issue key')]\n",
    "# Extract the values from these columns as a NumPy array\n",
    "issue_key_values: ndarray = jira_dataframe[issue_key_columns].values\n",
    "# Flatten the array to create a one-dimensional list of all 'Issue key' values\n",
    "flattened_issue_keys: ndarray = issue_key_values.flatten()\n",
    "# Convert the list into a set to remove duplicates\n",
    "ids: set = set(flattened_issue_keys)"
   ]
  },
  {
   "cell_type": "markdown",
   "id": "c56c59729f4f2bd8",
   "metadata": {},
   "source": [
    "---\n",
    "\n",
    "\n",
    "## Part 2 : Repository analysis\n"
   ]
  },
  {
   "cell_type": "code",
   "execution_count": 7,
   "id": "af5c65ce22975fa2",
   "metadata": {
    "ExecuteTime": {
     "end_time": "2024-11-20T23:48:05.000004Z",
     "start_time": "2024-11-20T23:48:04.804273Z"
    }
   },
   "outputs": [],
   "source": [
    "from Hive import git_download, commit_analysis, update_commit_dataframe, filter_versions_by_min\n",
    "from git import Repo, Tag\n",
    "from pandas import DataFrame\n",
    "from configparser import ConfigParser\n",
    "from re import compile\n",
    "from packaging import version  "
   ]
  },
  {
   "cell_type": "markdown",
   "id": "2c7e1094fe45f12b",
   "metadata": {},
   "source": [
    "### 2.1 - Clone repository"
   ]
  },
  {
   "cell_type": "code",
   "execution_count": 8,
   "id": "da70cec527312bb6",
   "metadata": {
    "ExecuteTime": {
     "end_time": "2024-11-20T23:48:07.689653Z",
     "start_time": "2024-11-20T23:48:06.629293Z"
    },
    "scrolled": true
   },
   "outputs": [
    {
     "name": "stdout",
     "output_type": "stream",
     "text": [
      "Output/hive_data/hiveRepo False\n",
      "Pulling the repository: https://github.com/apache/hive.git\n"
     ]
    }
   ],
   "source": [
    "repo: Repo = git_download()"
   ]
  },
  {
   "cell_type": "code",
   "execution_count": 9,
   "id": "440e0445aebd0288",
   "metadata": {},
   "outputs": [
    {
     "name": "stdout",
     "output_type": "stream",
     "text": [
      "20524 couples found.\n"
     ]
    }
   ],
   "source": [
    "all_couples = commit_analysis(ids)"
   ]
  },
  {
   "cell_type": "markdown",
   "id": "bc716ced26d7531a",
   "metadata": {},
   "source": [
    "### 2.2 - Filter data"
   ]
  },
  {
   "cell_type": "code",
   "execution_count": 10,
   "id": "6bac11954b2066d9",
   "metadata": {
    "ExecuteTime": {
     "end_time": "2024-11-20T04:16:26.388221Z",
     "start_time": "2024-11-20T04:16:26.378513Z"
    }
   },
   "outputs": [],
   "source": [
    "commit_dataframe: DataFrame = DataFrame(all_couples, columns=[\"Issue key\", \"File\", \"Commit\"])"
   ]
  },
  {
   "cell_type": "code",
   "execution_count": 11,
   "id": "90c98946d2120458",
   "metadata": {
    "ExecuteTime": {
     "end_time": "2024-11-20T04:16:26.415350Z",
     "start_time": "2024-11-20T04:16:26.403683Z"
    }
   },
   "outputs": [],
   "source": [
    "# Languages without whitespaces\n",
    "config: ConfigParser = ConfigParser()\n",
    "config.read(\"config.ini\")\n",
    "languages: [str] = config[\"GENERAL\"][\"Languages\"].split(\",\")\n",
    "languages: [str] = [lang.strip() for lang in languages]\n",
    "commit_dataframe: DataFrame = commit_dataframe[commit_dataframe['File'].str.endswith(tuple(languages))]"
   ]
  },
  {
   "cell_type": "code",
   "execution_count": 12,
   "id": "3c9ce9d7-7636-45b4-826a-f55535ef28a3",
   "metadata": {},
   "outputs": [
    {
     "data": {
      "text/html": [
       "<div>\n",
       "<style scoped>\n",
       "    .dataframe tbody tr th:only-of-type {\n",
       "        vertical-align: middle;\n",
       "    }\n",
       "\n",
       "    .dataframe tbody tr th {\n",
       "        vertical-align: top;\n",
       "    }\n",
       "\n",
       "    .dataframe thead th {\n",
       "        text-align: right;\n",
       "    }\n",
       "</style>\n",
       "<table border=\"1\" class=\"dataframe\">\n",
       "  <thead>\n",
       "    <tr style=\"text-align: right;\">\n",
       "      <th></th>\n",
       "      <th>Issue key</th>\n",
       "      <th>File</th>\n",
       "      <th>Version Affected</th>\n",
       "    </tr>\n",
       "  </thead>\n",
       "  <tbody>\n",
       "    <tr>\n",
       "      <th>0</th>\n",
       "      <td>HIVE-21614</td>\n",
       "      <td>ql/src/test/org/apache/hadoop/hive/metastore/T...</td>\n",
       "      <td>2.3.4, 3.0.0</td>\n",
       "    </tr>\n",
       "    <tr>\n",
       "      <th>1</th>\n",
       "      <td>HIVE-21614</td>\n",
       "      <td>standalone-metastore/metastore-server/src/main...</td>\n",
       "      <td>2.3.4, 3.0.0</td>\n",
       "    </tr>\n",
       "    <tr>\n",
       "      <th>2</th>\n",
       "      <td>HIVE-21614</td>\n",
       "      <td>standalone-metastore/metastore-server/src/main...</td>\n",
       "      <td>2.3.4, 3.0.0</td>\n",
       "    </tr>\n",
       "    <tr>\n",
       "      <th>3</th>\n",
       "      <td>HIVE-28366</td>\n",
       "      <td>iceberg/iceberg-handler/src/main/java/org/apac...</td>\n",
       "      <td>4.0.0</td>\n",
       "    </tr>\n",
       "    <tr>\n",
       "      <th>4</th>\n",
       "      <td>HIVE-28366</td>\n",
       "      <td>iceberg/iceberg-handler/src/main/java/org/apac...</td>\n",
       "      <td>4.0.0</td>\n",
       "    </tr>\n",
       "    <tr>\n",
       "      <th>...</th>\n",
       "      <td>...</td>\n",
       "      <td>...</td>\n",
       "      <td>...</td>\n",
       "    </tr>\n",
       "    <tr>\n",
       "      <th>10268</th>\n",
       "      <td>HIVE-17706</td>\n",
       "      <td>itests/util/src/main/java/org/apache/hadoop/hi...</td>\n",
       "      <td>3.0.0</td>\n",
       "    </tr>\n",
       "    <tr>\n",
       "      <th>10269</th>\n",
       "      <td>HIVE-17706</td>\n",
       "      <td>itests/util/src/main/java/org/apache/hive/beel...</td>\n",
       "      <td>3.0.0</td>\n",
       "    </tr>\n",
       "    <tr>\n",
       "      <th>10270</th>\n",
       "      <td>HIVE-17706</td>\n",
       "      <td>itests/util/src/main/java/org/apache/hive/beel...</td>\n",
       "      <td>3.0.0</td>\n",
       "    </tr>\n",
       "    <tr>\n",
       "      <th>10271</th>\n",
       "      <td>HIVE-17633</td>\n",
       "      <td>itests/util/src/main/java/org/apache/hadoop/hi...</td>\n",
       "      <td>3.0.0</td>\n",
       "    </tr>\n",
       "    <tr>\n",
       "      <th>10272</th>\n",
       "      <td>HIVE-17721</td>\n",
       "      <td>metastore/src/java/org/apache/hadoop/hive/meta...</td>\n",
       "      <td>3.0.0</td>\n",
       "    </tr>\n",
       "  </tbody>\n",
       "</table>\n",
       "<p>10273 rows × 3 columns</p>\n",
       "</div>"
      ],
      "text/plain": [
       "        Issue key                                               File  \\\n",
       "0      HIVE-21614  ql/src/test/org/apache/hadoop/hive/metastore/T...   \n",
       "1      HIVE-21614  standalone-metastore/metastore-server/src/main...   \n",
       "2      HIVE-21614  standalone-metastore/metastore-server/src/main...   \n",
       "3      HIVE-28366  iceberg/iceberg-handler/src/main/java/org/apac...   \n",
       "4      HIVE-28366  iceberg/iceberg-handler/src/main/java/org/apac...   \n",
       "...           ...                                                ...   \n",
       "10268  HIVE-17706  itests/util/src/main/java/org/apache/hadoop/hi...   \n",
       "10269  HIVE-17706  itests/util/src/main/java/org/apache/hive/beel...   \n",
       "10270  HIVE-17706  itests/util/src/main/java/org/apache/hive/beel...   \n",
       "10271  HIVE-17633  itests/util/src/main/java/org/apache/hadoop/hi...   \n",
       "10272  HIVE-17721  metastore/src/java/org/apache/hadoop/hive/meta...   \n",
       "\n",
       "      Version Affected  \n",
       "0         2.3.4, 3.0.0  \n",
       "1         2.3.4, 3.0.0  \n",
       "2         2.3.4, 3.0.0  \n",
       "3                4.0.0  \n",
       "4                4.0.0  \n",
       "...                ...  \n",
       "10268            3.0.0  \n",
       "10269            3.0.0  \n",
       "10270            3.0.0  \n",
       "10271            3.0.0  \n",
       "10272            3.0.0  \n",
       "\n",
       "[10273 rows x 3 columns]"
      ]
     },
     "execution_count": 12,
     "metadata": {},
     "output_type": "execute_result"
    }
   ],
   "source": [
    "couples = update_commit_dataframe(commit_dataframe, jira_dataframe)\n",
    "couples"
   ]
  },
  {
   "cell_type": "markdown",
   "id": "f496352e0c7a43f5",
   "metadata": {},
   "source": [
    "### 2.3 - Extract filter versions from git"
   ]
  },
  {
   "cell_type": "code",
   "execution_count": 13,
   "id": "ab6fbf64ca7a8f6f",
   "metadata": {
    "ExecuteTime": {
     "end_time": "2024-11-20T04:16:26.555772Z",
     "start_time": "2024-11-20T04:16:26.432450Z"
    }
   },
   "outputs": [],
   "source": [
    "releases_regex: [str] = config[\"GIT\"][\"ReleasesRegex\"].split(\",\")\n",
    "tags: Tag = repo.tags\n",
    "versions: dict = {tag.name: tag.commit for tag in tags}\n",
    "releases_regex: [str] = [regex.strip() for regex in releases_regex]\n",
    "releases_regex = [compile(regex) for regex in releases_regex]"
   ]
  },
  {
   "cell_type": "code",
   "execution_count": 14,
   "id": "418d3b719f004c46",
   "metadata": {
    "ExecuteTime": {
     "end_time": "2024-11-20T04:16:26.585618Z",
     "start_time": "2024-11-20T04:16:26.571752Z"
    }
   },
   "outputs": [
    {
     "data": {
      "text/plain": [
       "{'4.0.1': <git.Commit \"3af4517eb8cfd9407ad34ed78a0b48b57dfaa264\">,\n",
       " '2.3.10': <git.Commit \"5160d3af392248255f68e41e1e0557eae4d95273\">,\n",
       " '4.0.0': <git.Commit \"183f8cb41d3dbed961ffd27999876468ff06690c\">,\n",
       " '3.1.3': <git.Commit \"4df4d75bf1e16fe0af75aad0b4179c34c07fc975\">,\n",
       " '2.3.9': <git.Commit \"92dd0159f440ca7863be3232f3a683a510a62b9d\">,\n",
       " '2.3.8': <git.Commit \"f1e87137034e4ecbe39a859d4ef44319800016d7\">,\n",
       " '2.3.7': <git.Commit \"cb213d88304034393d68cc31a95be24f5aac62b6\">,\n",
       " '3.1.2': <git.Commit \"8190d2be7b7165effa62bd21b7d60ef81fb0e4af\">,\n",
       " '2.3.6': <git.Commit \"2c2fdd524e8783f6e1f3ef15281cc2d5ed08728f\">,\n",
       " '2.3.5': <git.Commit \"76595628ae13b95162e77bba365fe4d2c60b3f29\">,\n",
       " '2.3.4': <git.Commit \"56acdd2120b9ce6790185c679223b8b5e884aaf2\">,\n",
       " '3.1.1': <git.Commit \"f4e0529634b6231a0072295da48af466cf2f10b7\">,\n",
       " '3.1.0': <git.Commit \"bcc7df95824831a8d2f1524e4048dfc23ab98c19\">,\n",
       " '3.0.0': <git.Commit \"ce61711a5fa54ab34fc74d86d521ecaeea6b072a\">,\n",
       " '2.3.3': <git.Commit \"3f7dde31aed44b5440563d3f9d8a8887beccf0be\">,\n",
       " '2.3.2': <git.Commit \"857a9fd8ad725a53bd95c1b2d6612f9b1155f44d\">,\n",
       " '2.3.1': <git.Commit \"7590572d9265e15286628013268b2ce785c6aa08\">,\n",
       " '2.2.0': <git.Commit \"da840b0f8fa99cab9f004810cd22abc207493cae\">,\n",
       " '2.3.0': <git.Commit \"6f4c35c9e904d226451c465effdc5bfd31d395a0\">,\n",
       " '2.1.1': <git.Commit \"1af77bbf8356e86cabbed92cfa8cc2e1470a1d5c\">,\n",
       " '2.1.0': <git.Commit \"9265bc24d75ac945bde9ce1a0999fddd8f2aae29\">,\n",
       " '2.0.1': <git.Commit \"e3cfeebcefe9a19c5055afdcbb00646908340694\">,\n",
       " '2.0.0': <git.Commit \"7f9f1fcb8697fb33f0edc2c391930a3728d247d7\">}"
      ]
     },
     "execution_count": 14,
     "metadata": {},
     "output_type": "execute_result"
    }
   ],
   "source": [
    "filtered_versions = filter_versions_by_min(versions, releases_regex, \"2.0.0\")\n",
    "filtered_versions"
   ]
  },
  {
   "cell_type": "code",
   "execution_count": 15,
   "id": "4f3efa0d",
   "metadata": {},
   "outputs": [
    {
     "data": {
      "text/plain": [
       "{'4.0.1': <git.Commit \"3af4517eb8cfd9407ad34ed78a0b48b57dfaa264\">,\n",
       " '4.0.0': <git.Commit \"183f8cb41d3dbed961ffd27999876468ff06690c\">,\n",
       " '3.1.3': <git.Commit \"4df4d75bf1e16fe0af75aad0b4179c34c07fc975\">,\n",
       " '3.1.2': <git.Commit \"8190d2be7b7165effa62bd21b7d60ef81fb0e4af\">,\n",
       " '3.1.1': <git.Commit \"f4e0529634b6231a0072295da48af466cf2f10b7\">,\n",
       " '3.1.0': <git.Commit \"bcc7df95824831a8d2f1524e4048dfc23ab98c19\">,\n",
       " '3.0.0': <git.Commit \"ce61711a5fa54ab34fc74d86d521ecaeea6b072a\">,\n",
       " '2.3.10': <git.Commit \"5160d3af392248255f68e41e1e0557eae4d95273\">,\n",
       " '2.3.9': <git.Commit \"92dd0159f440ca7863be3232f3a683a510a62b9d\">,\n",
       " '2.3.8': <git.Commit \"f1e87137034e4ecbe39a859d4ef44319800016d7\">,\n",
       " '2.3.7': <git.Commit \"cb213d88304034393d68cc31a95be24f5aac62b6\">,\n",
       " '2.3.6': <git.Commit \"2c2fdd524e8783f6e1f3ef15281cc2d5ed08728f\">,\n",
       " '2.3.5': <git.Commit \"76595628ae13b95162e77bba365fe4d2c60b3f29\">,\n",
       " '2.3.4': <git.Commit \"56acdd2120b9ce6790185c679223b8b5e884aaf2\">,\n",
       " '2.3.3': <git.Commit \"3f7dde31aed44b5440563d3f9d8a8887beccf0be\">,\n",
       " '2.3.2': <git.Commit \"857a9fd8ad725a53bd95c1b2d6612f9b1155f44d\">,\n",
       " '2.3.1': <git.Commit \"7590572d9265e15286628013268b2ce785c6aa08\">,\n",
       " '2.3.0': <git.Commit \"6f4c35c9e904d226451c465effdc5bfd31d395a0\">,\n",
       " '2.2.0': <git.Commit \"da840b0f8fa99cab9f004810cd22abc207493cae\">,\n",
       " '2.1.1': <git.Commit \"1af77bbf8356e86cabbed92cfa8cc2e1470a1d5c\">,\n",
       " '2.1.0': <git.Commit \"9265bc24d75ac945bde9ce1a0999fddd8f2aae29\">,\n",
       " '2.0.1': <git.Commit \"e3cfeebcefe9a19c5055afdcbb00646908340694\">,\n",
       " '2.0.0': <git.Commit \"7f9f1fcb8697fb33f0edc2c391930a3728d247d7\">}"
      ]
     },
     "execution_count": 15,
     "metadata": {},
     "output_type": "execute_result"
    }
   ],
   "source": [
    "from packaging.version import Version\n",
    "\n",
    "sorted_versions = dict(\n",
    "    sorted(filtered_versions.items(), key=lambda item: Version(item[0]), reverse=True)\n",
    ")\n",
    "\n",
    "sorted_versions"
   ]
  },
  {
   "cell_type": "markdown",
   "id": "2bda8a7e729d746e",
   "metadata": {},
   "source": [
    "## Part 3. - Understand analysis"
   ]
  },
  {
   "cell_type": "code",
   "execution_count": 16,
   "id": "341333382b3f4712",
   "metadata": {
    "ExecuteTime": {
     "end_time": "2024-11-20T04:16:26.628016Z",
     "start_time": "2024-11-20T04:16:26.602950Z"
    }
   },
   "outputs": [],
   "source": [
    "from Understand.commands import und_create_command, und_purge_command\n",
    "from Understand.metrics import metrics\n",
    "from Understand.label import label_all_metrics\n",
    "from os import path\n",
    "from Understand import merge_static_metrics\n",
    "from Understand.enrich import enrich_metrics\n",
    "from Understand.update import merge_all_metrics"
   ]
  },
  {
   "cell_type": "markdown",
   "id": "aa8504cac8b12909",
   "metadata": {},
   "source": [
    "### 3.1 - Create the Understand project\n"
   ]
  },
  {
   "cell_type": "code",
   "execution_count": 17,
   "id": "e897f593172bee81",
   "metadata": {
    "ExecuteTime": {
     "end_time": "2024-11-20T04:16:26.651135Z",
     "start_time": "2024-11-20T04:16:26.645112Z"
    }
   },
   "outputs": [],
   "source": [
    "hive_git_directory: str = config[\"GIT\"][\"HiveGitDirectory\"]\n",
    "data_directory: str = config[\"GENERAL\"][\"DataDirectory\"]\n",
    "understand_project_name : str = config[\"UNDERSTAND\"][\"UnderstandProjectName\"]\n",
    "\n",
    "understand_project_path : str = path.join(data_directory, hive_git_directory, understand_project_name)\n",
    "\n",
    "if not path.exists(understand_project_path):\n",
    "    und_create_command()"
   ]
  },
  {
   "cell_type": "code",
   "execution_count": 18,
   "id": "90fadd76a26bddbb",
   "metadata": {
    "ExecuteTime": {
     "end_time": "2024-11-20T04:16:27.831068Z",
     "start_time": "2024-11-20T04:16:26.670397Z"
    }
   },
   "outputs": [
    {
     "name": "stdout",
     "output_type": "stream",
     "text": [
      "Running command : \n",
      "     /Applications/Understand.app/Contents/MacOS/und purge -db Output/hive_data/hive.und\n",
      "Database purged.\n",
      "\n"
     ]
    }
   ],
   "source": [
    "und_purge_command()"
   ]
  },
  {
   "cell_type": "markdown",
   "id": "b6e1f947-5bde-4984-8adc-86b859a1ad59",
   "metadata": {},
   "source": [
    "### 3.2 - Metrics extraction\n"
   ]
  },
  {
   "cell_type": "code",
   "execution_count": 19,
   "id": "41dab79156306ac6",
   "metadata": {
    "ExecuteTime": {
     "start_time": "2024-11-20T04:16:27.848863Z"
    },
    "jupyter": {
     "is_executing": true
    }
   },
   "outputs": [
    {
     "name": "stdout",
     "output_type": "stream",
     "text": [
      "Metrics analysis is skipped as per configuration.\n"
     ]
    }
   ],
   "source": [
    "metrics(filtered_versions)"
   ]
  },
  {
   "cell_type": "markdown",
   "id": "a2aa23e7-801e-469e-a10d-9bea94b91aff",
   "metadata": {},
   "source": [
    "### 3.3 - Labeling\n"
   ]
  },
  {
   "cell_type": "code",
   "execution_count": 20,
   "id": "b78f4b34-6a24-4a64-b04a-e20bb44a1473",
   "metadata": {},
   "outputs": [
    {
     "name": "stdout",
     "output_type": "stream",
     "text": [
      "Labelization process is skipped as per configuration.\n"
     ]
    }
   ],
   "source": [
    "label_all_metrics(couples)"
   ]
  },
  {
   "cell_type": "code",
   "execution_count": 21,
   "id": "95599321",
   "metadata": {},
   "outputs": [
    {
     "name": "stdout",
     "output_type": "stream",
     "text": [
      "Enrichment process is skipped as per configuration.\n"
     ]
    }
   ],
   "source": [
    "enrich_metrics(couples)"
   ]
  },
  {
   "cell_type": "code",
   "execution_count": 22,
   "id": "352890b7",
   "metadata": {},
   "outputs": [
    {
     "name": "stdout",
     "output_type": "stream",
     "text": [
      "Merging has already been done. Skipping...\n"
     ]
    }
   ],
   "source": [
    "v = [\n",
    "    \"2.0.0\", \"2.0.1\", \"2.1.0\", \"2.1.1\", \"2.2.0\", \"2.3.0\", \"2.3.1\", \"2.3.2\",\n",
    "    \"2.3.3\", \"2.3.4\", \"2.3.5\", \"2.3.6\", \"2.3.7\", \"2.3.8\", \"2.3.9\", \"2.3.10\",\n",
    "    \"3.0.0\", \"3.1.0\", \"3.1.1\", \"3.1.2\", \"3.1.3\", \"4.0.0\", \"4.0.1\"\n",
    "]\n",
    "merge_all_metrics(v)"
   ]
  },
  {
   "cell_type": "code",
   "execution_count": 23,
   "id": "3af76593-116f-4987-8a28-e04608c16334",
   "metadata": {},
   "outputs": [
    {
     "name": "stdout",
     "output_type": "stream",
     "text": [
      "Merging has already been done. Skipping...\n"
     ]
    }
   ],
   "source": [
    "merge_static_metrics()"
   ]
  },
  {
   "cell_type": "code",
   "execution_count": 24,
   "id": "4f87e311-3c64-47dc-b398-e44bfc25733a",
   "metadata": {},
   "outputs": [],
   "source": [
    "from AI import run_pipeline\n",
    "import os\n",
    "from configparser import ConfigParser\n",
    "from sklearn.linear_model import LogisticRegression\n",
    "from sklearn.ensemble import RandomForestClassifier"
   ]
  },
  {
   "cell_type": "code",
   "execution_count": 25,
   "id": "dd950f05",
   "metadata": {},
   "outputs": [
    {
     "data": {
      "text/plain": [
       "['config.ini']"
      ]
     },
     "execution_count": 25,
     "metadata": {},
     "output_type": "execute_result"
    }
   ],
   "source": [
    "config: ConfigParser = ConfigParser()\n",
    "config.read(\"config.ini\")"
   ]
  },
  {
   "cell_type": "code",
   "execution_count": 26,
   "id": "00ec0dcb",
   "metadata": {},
   "outputs": [],
   "source": [
    "data_directory = config[\"GENERAL\"][\"DataDirectory\"]\n",
    "output_dir = config[\"UNDERSTAND\"][\"FullStaticMetricsOutputDirectory\"]\n",
    "file_name = config[\"UNDERSTAND\"][\"MergedStaticMetricsFileName\"]\n",
    "file_path = os.path.join(data_directory, output_dir, file_name)"
   ]
  },
  {
   "cell_type": "code",
   "execution_count": 27,
   "id": "43c49aa3",
   "metadata": {},
   "outputs": [],
   "source": [
    "# Logistic Regression with solver and normalization\n",
    "# metrics_logistic_balanced = run_pipeline(\n",
    "#     file_path=file_path,\n",
    "#     model=lambda: LogisticRegression(max_iter=1000, class_weight=\"balanced\"),\n",
    "#     config_section=\"VERSION_ALL_LAB\"\n",
    "# )\n",
    "\n",
    "# Run pipeline for all_versions with Random Forest\n",
    "# metrics_rf_balanced = run_pipeline(\n",
    "#     file_path=file_path,\n",
    "#     model=lambda: RandomForestClassifier(random_state=42, class_weight='balanced'),\n",
    "#     config_section=\"VERSION_ALL_LAB\"\n",
    "# )"
   ]
  },
  {
   "cell_type": "code",
   "execution_count": 28,
   "id": "85a4818d",
   "metadata": {},
   "outputs": [],
   "source": [
    "# metrics_logistic_balanced"
   ]
  },
  {
   "cell_type": "code",
   "execution_count": 29,
   "id": "9f483857",
   "metadata": {},
   "outputs": [],
   "source": [
    "# metrics_rf_balanced"
   ]
  },
  {
   "cell_type": "markdown",
   "id": "ed9aa789-37de-43e9-9e5f-7744ca9fd466",
   "metadata": {},
   "source": [
    "## Part 5. - Dynamic Metrics"
   ]
  },
  {
   "cell_type": "code",
   "execution_count": 30,
   "id": "75f6b052-94da-4262-a7e1-b68137787f15",
   "metadata": {},
   "outputs": [],
   "source": [
    "from Dynamic import convert_json_to_csv, merge_static_and_dynamic_csv, build_dependencies, display_hierarchy, collect_dynamic_metrics_v2\n",
    "from Hive import filter_versions_by_min"
   ]
  },
  {
   "cell_type": "code",
   "execution_count": 31,
   "id": "61014ea2-93c8-4e80-ae0a-773903d6ea90",
   "metadata": {},
   "outputs": [
    {
     "name": "stdout",
     "output_type": "stream",
     "text": [
      "1.0.0 (2015-02-03) [Commit: 697aeca]\n",
      "    1.0.1 (2015-05-14) [Commit: 73b600d]\n",
      "    1.1.0 (2015-03-09) [Commit: e60744d]\n",
      "        1.1.1 (2015-05-14) [Commit: 3e8d832]\n",
      "        1.2.0 (2015-05-14) [Commit: 7f237de]\n",
      "            1.2.1 (2015-06-19) [Commit: 243e7c1]\n",
      "                1.2.2 (2017-04-01) [Commit: 395368f]\n",
      "                2.0.0 (2016-02-09) [Commit: 7f9f1fc]\n",
      "                    2.0.1 (2016-05-03) [Commit: e3cfeeb]\n",
      "                        2.1.0 (2016-06-17) [Commit: 9265bc2]\n",
      "                            2.1.1 (2016-11-29) [Commit: 1af77bb]\n",
      "                                2.2.0 (2017-07-21) [Commit: da840b0]\n",
      "                                2.3.0 (2017-07-13) [Commit: 6f4c35c]\n",
      "                                    2.3.1 (2017-10-19) [Commit: 7590572]\n",
      "                                        2.3.2 (2017-11-09) [Commit: 857a9fd]\n",
      "                                            2.3.3 (2018-03-28) [Commit: 3f7dde3]\n",
      "                                                2.3.4 (2018-10-31) [Commit: 56acdd2]\n",
      "                                                    2.3.5 (2019-05-07) [Commit: 7659562]\n",
      "                                                        2.3.6 (2019-08-13) [Commit: 2c2fdd5]\n",
      "                                                            2.3.7 (2020-04-07) [Commit: cb213d8]\n",
      "                                                                2.3.8 (2021-01-06) [Commit: f1e8713]\n",
      "                                                                    2.3.9 (2021-06-01) [Commit: 92dd015]\n",
      "                                                                        2.3.10 (2024-05-04) [Commit: 5160d3a]\n",
      "                                                3.0.0 (2018-05-17) [Commit: ce61711]\n",
      "                                                    3.1.0 (2018-07-23) [Commit: bcc7df9]\n",
      "                                                        3.1.1 (2018-10-23) [Commit: f4e0529]\n",
      "                                                            3.1.2 (2019-08-22) [Commit: 8190d2b]\n",
      "                                                                3.1.3 (2022-03-24) [Commit: 4df4d75]\n",
      "                                                                    4.0.0 (2024-03-21) [Commit: 183f8cb]\n",
      "                                                                        4.0.1 (2024-09-26) [Commit: 3af4517]\n"
     ]
    },
    {
     "data": {
      "text/plain": [
       "{'1.0.0': {'previous': None,\n",
       "  'next': ['1.0.1', '1.1.0'],\n",
       "  'date': '2015-02-03',\n",
       "  'commit': <git.Commit \"697aecadc3ba62bc11f3ba0a6c8522daeec7b53f\">,\n",
       "  'branch_origin': None},\n",
       " '1.0.1': {'previous': '1.0.0',\n",
       "  'next': None,\n",
       "  'date': '2015-05-14',\n",
       "  'commit': <git.Commit \"73b600dc79ba8a9a32078a2ea0eb8ae3df20c9d5\">,\n",
       "  'branch_origin': None},\n",
       " '1.1.0': {'previous': '1.0.0',\n",
       "  'next': ['1.1.1', '1.2.0'],\n",
       "  'date': '2015-03-09',\n",
       "  'commit': <git.Commit \"e60744d017ef79f1b17f474c0b969d4ca5592462\">,\n",
       "  'branch_origin': None},\n",
       " '1.1.1': {'previous': '1.1.0',\n",
       "  'next': None,\n",
       "  'date': '2015-05-14',\n",
       "  'commit': <git.Commit \"3e8d832a1a8e2b12029adcb55862cf040098ef0f\">,\n",
       "  'branch_origin': None},\n",
       " '1.2.0': {'previous': '1.1.0',\n",
       "  'next': ['1.2.1'],\n",
       "  'date': '2015-05-14',\n",
       "  'commit': <git.Commit \"7f237de447bcd726bb3d0ba332cbb733f39fc02f\">,\n",
       "  'branch_origin': None},\n",
       " '1.2.1': {'previous': '1.2.0',\n",
       "  'next': ['1.2.2', '2.0.0'],\n",
       "  'date': '2015-06-19',\n",
       "  'commit': <git.Commit \"243e7c1ac39cb7ac8b65c5bc6988f5cc3162f558\">,\n",
       "  'branch_origin': None},\n",
       " '1.2.2': {'previous': '1.2.1',\n",
       "  'next': None,\n",
       "  'date': '2017-04-01',\n",
       "  'commit': <git.Commit \"395368fc6478c7e2a1e84a5a2a8aac45e4399a9e\">,\n",
       "  'branch_origin': None},\n",
       " '2.0.0': {'previous': '1.2.1',\n",
       "  'next': ['2.0.1'],\n",
       "  'date': '2016-02-09',\n",
       "  'commit': <git.Commit \"7f9f1fcb8697fb33f0edc2c391930a3728d247d7\">,\n",
       "  'branch_origin': None},\n",
       " '2.0.1': {'previous': '2.0.0',\n",
       "  'next': ['2.1.0'],\n",
       "  'date': '2016-05-03',\n",
       "  'commit': <git.Commit \"e3cfeebcefe9a19c5055afdcbb00646908340694\">,\n",
       "  'branch_origin': None},\n",
       " '2.1.0': {'previous': '2.0.1',\n",
       "  'next': ['2.1.1'],\n",
       "  'date': '2016-06-17',\n",
       "  'commit': <git.Commit \"9265bc24d75ac945bde9ce1a0999fddd8f2aae29\">,\n",
       "  'branch_origin': None},\n",
       " '2.1.1': {'previous': '2.1.0',\n",
       "  'next': ['2.2.0', '2.3.0'],\n",
       "  'date': '2016-11-29',\n",
       "  'commit': <git.Commit \"1af77bbf8356e86cabbed92cfa8cc2e1470a1d5c\">,\n",
       "  'branch_origin': None},\n",
       " '2.2.0': {'previous': '2.1.1',\n",
       "  'next': None,\n",
       "  'date': '2017-07-21',\n",
       "  'commit': <git.Commit \"da840b0f8fa99cab9f004810cd22abc207493cae\">,\n",
       "  'branch_origin': None},\n",
       " '2.3.0': {'previous': '2.1.1',\n",
       "  'next': ['2.3.1'],\n",
       "  'date': '2017-07-13',\n",
       "  'commit': <git.Commit \"6f4c35c9e904d226451c465effdc5bfd31d395a0\">,\n",
       "  'branch_origin': None},\n",
       " '2.3.1': {'previous': '2.3.0',\n",
       "  'next': ['2.3.2'],\n",
       "  'date': '2017-10-19',\n",
       "  'commit': <git.Commit \"7590572d9265e15286628013268b2ce785c6aa08\">,\n",
       "  'branch_origin': None},\n",
       " '2.3.2': {'previous': '2.3.1',\n",
       "  'next': ['2.3.3'],\n",
       "  'date': '2017-11-09',\n",
       "  'commit': <git.Commit \"857a9fd8ad725a53bd95c1b2d6612f9b1155f44d\">,\n",
       "  'branch_origin': None},\n",
       " '2.3.3': {'previous': '2.3.2',\n",
       "  'next': ['2.3.4', '3.0.0'],\n",
       "  'date': '2018-03-28',\n",
       "  'commit': <git.Commit \"3f7dde31aed44b5440563d3f9d8a8887beccf0be\">,\n",
       "  'branch_origin': None},\n",
       " '2.3.4': {'previous': '2.3.3',\n",
       "  'next': ['2.3.5'],\n",
       "  'date': '2018-10-31',\n",
       "  'commit': <git.Commit \"56acdd2120b9ce6790185c679223b8b5e884aaf2\">,\n",
       "  'branch_origin': None},\n",
       " '2.3.5': {'previous': '2.3.4',\n",
       "  'next': ['2.3.6'],\n",
       "  'date': '2019-05-07',\n",
       "  'commit': <git.Commit \"76595628ae13b95162e77bba365fe4d2c60b3f29\">,\n",
       "  'branch_origin': None},\n",
       " '2.3.6': {'previous': '2.3.5',\n",
       "  'next': ['2.3.7'],\n",
       "  'date': '2019-08-13',\n",
       "  'commit': <git.Commit \"2c2fdd524e8783f6e1f3ef15281cc2d5ed08728f\">,\n",
       "  'branch_origin': None},\n",
       " '2.3.7': {'previous': '2.3.6',\n",
       "  'next': ['2.3.8'],\n",
       "  'date': '2020-04-07',\n",
       "  'commit': <git.Commit \"cb213d88304034393d68cc31a95be24f5aac62b6\">,\n",
       "  'branch_origin': None},\n",
       " '2.3.8': {'previous': '2.3.7',\n",
       "  'next': ['2.3.9'],\n",
       "  'date': '2021-01-06',\n",
       "  'commit': <git.Commit \"f1e87137034e4ecbe39a859d4ef44319800016d7\">,\n",
       "  'branch_origin': None},\n",
       " '2.3.9': {'previous': '2.3.8',\n",
       "  'next': ['2.3.10'],\n",
       "  'date': '2021-06-01',\n",
       "  'commit': <git.Commit \"92dd0159f440ca7863be3232f3a683a510a62b9d\">,\n",
       "  'branch_origin': None},\n",
       " '2.3.10': {'previous': '2.3.9',\n",
       "  'next': None,\n",
       "  'date': '2024-05-04',\n",
       "  'commit': <git.Commit \"5160d3af392248255f68e41e1e0557eae4d95273\">,\n",
       "  'branch_origin': None},\n",
       " '3.0.0': {'previous': '2.3.3',\n",
       "  'next': ['3.1.0'],\n",
       "  'date': '2018-05-17',\n",
       "  'commit': <git.Commit \"ce61711a5fa54ab34fc74d86d521ecaeea6b072a\">,\n",
       "  'branch_origin': None},\n",
       " '3.1.0': {'previous': '3.0.0',\n",
       "  'next': ['3.1.1'],\n",
       "  'date': '2018-07-23',\n",
       "  'commit': <git.Commit \"bcc7df95824831a8d2f1524e4048dfc23ab98c19\">,\n",
       "  'branch_origin': None},\n",
       " '3.1.1': {'previous': '3.1.0',\n",
       "  'next': ['3.1.2'],\n",
       "  'date': '2018-10-23',\n",
       "  'commit': <git.Commit \"f4e0529634b6231a0072295da48af466cf2f10b7\">,\n",
       "  'branch_origin': None},\n",
       " '3.1.2': {'previous': '3.1.1',\n",
       "  'next': ['3.1.3'],\n",
       "  'date': '2019-08-22',\n",
       "  'commit': <git.Commit \"8190d2be7b7165effa62bd21b7d60ef81fb0e4af\">,\n",
       "  'branch_origin': None},\n",
       " '3.1.3': {'previous': '3.1.2',\n",
       "  'next': ['4.0.0'],\n",
       "  'date': '2022-03-24',\n",
       "  'commit': <git.Commit \"4df4d75bf1e16fe0af75aad0b4179c34c07fc975\">,\n",
       "  'branch_origin': None},\n",
       " '4.0.0': {'previous': '3.1.3',\n",
       "  'next': ['4.0.1'],\n",
       "  'date': '2024-03-21',\n",
       "  'commit': <git.Commit \"183f8cb41d3dbed961ffd27999876468ff06690c\">,\n",
       "  'branch_origin': None},\n",
       " '4.0.1': {'previous': '4.0.0',\n",
       "  'next': None,\n",
       "  'date': '2024-09-26',\n",
       "  'commit': <git.Commit \"3af4517eb8cfd9407ad34ed78a0b48b57dfaa264\">,\n",
       "  'branch_origin': None}}"
      ]
     },
     "execution_count": 31,
     "metadata": {},
     "output_type": "execute_result"
    }
   ],
   "source": [
    "all_versions = filter_versions_by_min(versions, releases_regex,'1.0')\n",
    "version_json = build_dependencies(all_versions)\n",
    "display_hierarchy(version_json)\n",
    "\n",
    "version_json"
   ]
  },
  {
   "cell_type": "code",
   "execution_count": 32,
   "id": "ef68223c-f8cd-422a-a157-e2fe7671fbf2",
   "metadata": {},
   "outputs": [
    {
     "name": "stdout",
     "output_type": "stream",
     "text": [
      "Starting parallel processing with 8 threads...\n",
      "Processing commits between 1.2.1 (243e7c1ac39cb7ac8b65c5bc6988f5cc3162f558) and 2.0.0 (7f9f1fcb8697fb33f0edc2c391930a3728d247d7)\n",
      "Processing commits between 2.0.1 (e3cfeebcefe9a19c5055afdcbb00646908340694) and 2.1.0 (9265bc24d75ac945bde9ce1a0999fddd8f2aae29)\n",
      "Processing commits between 2.3.1 (7590572d9265e15286628013268b2ce785c6aa08) and 2.3.2 (857a9fd8ad725a53bd95c1b2d6612f9b1155f44d)\n",
      "Processing commits between 2.1.0 (9265bc24d75ac945bde9ce1a0999fddd8f2aae29) and 2.1.1 (1af77bbf8356e86cabbed92cfa8cc2e1470a1d5c)\n",
      "Processing commits between 2.0.0 (7f9f1fcb8697fb33f0edc2c391930a3728d247d7) and 2.0.1 (e3cfeebcefe9a19c5055afdcbb00646908340694)\n",
      "Processing commits between 2.1.1 (1af77bbf8356e86cabbed92cfa8cc2e1470a1d5c) and 2.2.0 (da840b0f8fa99cab9f004810cd22abc207493cae)\n",
      "Processing commits between 2.1.1 (1af77bbf8356e86cabbed92cfa8cc2e1470a1d5c) and 2.3.0 (6f4c35c9e904d226451c465effdc5bfd31d395a0)\n",
      "Processing commits between 2.3.0 (6f4c35c9e904d226451c465effdc5bfd31d395a0) and 2.3.1 (7590572d9265e15286628013268b2ce785c6aa08)\n",
      "Processing commits between 2.3.2 (857a9fd8ad725a53bd95c1b2d6612f9b1155f44d) and 2.3.3 (3f7dde31aed44b5440563d3f9d8a8887beccf0be)\n",
      "Processing commits between 2.3.3 (3f7dde31aed44b5440563d3f9d8a8887beccf0be) and 2.3.4 (56acdd2120b9ce6790185c679223b8b5e884aaf2)\n",
      "Processing commits between 2.3.3 (3f7dde31aed44b5440563d3f9d8a8887beccf0be) and 3.0.0 (ce61711a5fa54ab34fc74d86d521ecaeea6b072a)\n",
      "Processing commits between 2.3.4 (56acdd2120b9ce6790185c679223b8b5e884aaf2) and 2.3.5 (76595628ae13b95162e77bba365fe4d2c60b3f29)\n",
      "Processing commits between 3.0.0 (ce61711a5fa54ab34fc74d86d521ecaeea6b072a) and 3.1.0 (bcc7df95824831a8d2f1524e4048dfc23ab98c19)\n",
      "Processing commits between 2.3.5 (76595628ae13b95162e77bba365fe4d2c60b3f29) and 2.3.6 (2c2fdd524e8783f6e1f3ef15281cc2d5ed08728f)\n",
      "Processing commits between 3.1.0 (bcc7df95824831a8d2f1524e4048dfc23ab98c19) and 3.1.1 (f4e0529634b6231a0072295da48af466cf2f10b7)\n",
      "Processing commits between 2.3.6 (2c2fdd524e8783f6e1f3ef15281cc2d5ed08728f) and 2.3.7 (cb213d88304034393d68cc31a95be24f5aac62b6)\n",
      "Processing commits between 3.1.1 (f4e0529634b6231a0072295da48af466cf2f10b7) and 3.1.2 (8190d2be7b7165effa62bd21b7d60ef81fb0e4af)\n",
      "Processing commits between 2.3.7 (cb213d88304034393d68cc31a95be24f5aac62b6) and 2.3.8 (f1e87137034e4ecbe39a859d4ef44319800016d7)\n",
      "Processing commits between 3.1.2 (8190d2be7b7165effa62bd21b7d60ef81fb0e4af) and 3.1.3 (4df4d75bf1e16fe0af75aad0b4179c34c07fc975)\n",
      "Processing commits between 2.3.8 (f1e87137034e4ecbe39a859d4ef44319800016d7) and 2.3.9 (92dd0159f440ca7863be3232f3a683a510a62b9d)\n",
      "Processing commits between 3.1.3 (4df4d75bf1e16fe0af75aad0b4179c34c07fc975) and 4.0.0 (183f8cb41d3dbed961ffd27999876468ff06690c)\n",
      "Processing commits between 2.3.9 (92dd0159f440ca7863be3232f3a683a510a62b9d) and 2.3.10 (5160d3af392248255f68e41e1e0557eae4d95273)\n",
      "Processing commits between 4.0.0 (183f8cb41d3dbed961ffd27999876468ff06690c) and 4.0.1 (3af4517eb8cfd9407ad34ed78a0b48b57dfaa264)\n",
      "Time spent: 1365.33 seconds\n",
      "Dynamic metrics successfully saved to Output/temp_dynamic_metrics_output/dynamic_metrics.json\n"
     ]
    }
   ],
   "source": [
    "dynamic_metrics = collect_dynamic_metrics_v2(version_json)"
   ]
  },
  {
   "cell_type": "code",
   "execution_count": 33,
   "id": "ba249385-6dbc-4b9c-8e02-ac4010b5daea",
   "metadata": {},
   "outputs": [
    {
     "name": "stdout",
     "output_type": "stream",
     "text": [
      "Dynamic metrics CSV created: Output/dynamic_metrics_output/2.3.1_dynamic_metrics.csv\n",
      "Dynamic metrics CSV created: Output/dynamic_metrics_output/2.3.3_dynamic_metrics.csv\n",
      "Dynamic metrics CSV created: Output/dynamic_metrics_output/2.3.2_dynamic_metrics.csv\n",
      "Dynamic metrics CSV created: Output/dynamic_metrics_output/2.3.4_dynamic_metrics.csv\n",
      "Dynamic metrics CSV created: Output/dynamic_metrics_output/2.3.5_dynamic_metrics.csv\n",
      "Dynamic metrics CSV created: Output/dynamic_metrics_output/2.0.1_dynamic_metrics.csv\n",
      "Dynamic metrics CSV created: Output/dynamic_metrics_output/2.3.6_dynamic_metrics.csv\n",
      "Dynamic metrics CSV created: Output/dynamic_metrics_output/3.1.1_dynamic_metrics.csv\n",
      "Dynamic metrics CSV created: Output/dynamic_metrics_output/2.3.7_dynamic_metrics.csv\n",
      "Dynamic metrics CSV created: Output/dynamic_metrics_output/3.1.2_dynamic_metrics.csv\n",
      "Dynamic metrics CSV created: Output/dynamic_metrics_output/2.3.8_dynamic_metrics.csv\n",
      "Dynamic metrics CSV created: Output/dynamic_metrics_output/3.1.3_dynamic_metrics.csv\n",
      "Dynamic metrics CSV created: Output/dynamic_metrics_output/2.3.9_dynamic_metrics.csv\n",
      "Dynamic metrics CSV created: Output/dynamic_metrics_output/2.1.1_dynamic_metrics.csv\n",
      "Dynamic metrics CSV created: Output/dynamic_metrics_output/2.3.10_dynamic_metrics.csv\n",
      "Dynamic metrics CSV created: Output/dynamic_metrics_output/3.1.0_dynamic_metrics.csv\n",
      "Dynamic metrics CSV created: Output/dynamic_metrics_output/4.0.1_dynamic_metrics.csv\n",
      "Dynamic metrics CSV created: Output/dynamic_metrics_output/2.2.0_dynamic_metrics.csv\n",
      "Dynamic metrics CSV created: Output/dynamic_metrics_output/2.1.0_dynamic_metrics.csv\n",
      "Dynamic metrics CSV created: Output/dynamic_metrics_output/2.3.0_dynamic_metrics.csv\n",
      "Dynamic metrics CSV created: Output/dynamic_metrics_output/2.0.0_dynamic_metrics.csv\n",
      "Dynamic metrics CSV created: Output/dynamic_metrics_output/3.0.0_dynamic_metrics.csv\n",
      "Dynamic metrics CSV created: Output/dynamic_metrics_output/4.0.0_dynamic_metrics.csv\n"
     ]
    }
   ],
   "source": [
    "convert_json_to_csv()"
   ]
  },
  {
   "cell_type": "code",
   "execution_count": 34,
   "id": "50c4861e-4f61-49fc-a018-911a58a29d80",
   "metadata": {},
   "outputs": [
    {
     "name": "stdout",
     "output_type": "stream",
     "text": [
      "Static metrics file missing for version 3.1.3. Skipping...\n",
      "Static metrics file missing for version 3.1.2. Skipping...\n",
      "Static metrics file missing for version 3.1.1. Skipping...\n",
      "Static metrics file missing for version 2.2.0. Skipping...\n",
      "Static metrics file missing for version 3.1.0. Skipping...\n",
      "Static metrics file missing for version 2.0.0. Skipping...\n",
      "Static metrics file missing for version 2.0.1. Skipping...\n",
      "Static metrics file missing for version 2.3.1. Skipping...\n",
      "Static metrics file missing for version 2.3.0. Skipping...\n",
      "Static metrics file missing for version 3.0.0. Skipping...\n",
      "Static metrics file missing for version 2.3.3. Skipping...\n",
      "Static metrics file missing for version 2.3.2. Skipping...\n",
      "Static metrics file missing for version 2.3.4. Skipping...\n",
      "Static metrics file missing for version 2.1.0. Skipping...\n",
      "Static metrics file missing for version 2.3.5. Skipping...\n",
      "Static metrics file missing for version 2.1.1. Skipping...\n",
      "Static metrics file missing for version 2.3.6. Skipping...\n",
      "Static metrics file missing for version 2.3.7. Skipping...\n",
      "Static metrics file missing for version 4.0.0. Skipping...\n",
      "Static metrics file missing for version 2.3.8. Skipping...\n",
      "Static metrics file missing for version 2.3.10. Skipping...\n",
      "Static metrics file missing for version 4.0.1. Skipping...\n",
      "Static metrics file missing for version 2.3.9. Skipping...\n"
     ]
    }
   ],
   "source": [
    "merge_static_and_dynamic_csv()"
   ]
  },
  {
   "cell_type": "code",
   "execution_count": null,
   "id": "6cf962c8",
   "metadata": {},
   "outputs": [],
   "source": []
  }
 ],
 "metadata": {
  "kernelspec": {
   "display_name": "lab",
   "language": "python",
   "name": "python3"
  },
  "language_info": {
   "codemirror_mode": {
    "name": "ipython",
    "version": 3
   },
   "file_extension": ".py",
   "mimetype": "text/x-python",
   "name": "python",
   "nbconvert_exporter": "python",
   "pygments_lexer": "ipython3",
   "version": "3.13.0"
  }
 },
 "nbformat": 4,
 "nbformat_minor": 5
}
