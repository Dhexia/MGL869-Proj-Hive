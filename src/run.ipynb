{
 "cells": [
  {
   "cell_type": "markdown",
   "id": "9aa166c8f436bbb8",
   "metadata": {},
   "source": [
    "# MGL869 - Lab\n",
    "\n",
    "*MGL869 ETS Montreal - Production engineering*\n",
    "\n",
    "## Abstract\n",
    "\n",
    "## Authors\n",
    "- **Léo FORNOFF**\n",
    "- **William PHAN**\n",
    "- **Yannis OUAKRIM**"
   ]
  },
  {
   "cell_type": "markdown",
   "id": "cc574ebf57602201",
   "metadata": {},
   "source": [
    "---\n",
    "\n",
    "## Part 1 : Data collection"
   ]
  },
  {
   "cell_type": "code",
   "execution_count": 1,
   "id": "b5caf94fc63fdaf4",
   "metadata": {
    "ExecuteTime": {
     "end_time": "2024-11-20T23:44:33.397217Z",
     "start_time": "2024-11-20T23:44:31.076236Z"
    }
   },
   "outputs": [],
   "source": [
    "from Jira import jira_download\n",
    "from pandas import Index\n",
    "from numpy import ndarray"
   ]
  },
  {
   "cell_type": "markdown",
   "id": "af4622a84f52ca68",
   "metadata": {},
   "source": [
    "\n",
    "### 1.1 - Download Jira data\n",
    "We download data if they are not already present in the data folder.\n",
    "\n",
    "Return the dataframe of the data.\n",
    "\n",
    "Query filter can be defined in config.ini"
   ]
  },
  {
   "cell_type": "code",
   "execution_count": 2,
   "id": "d4971d821b405286",
   "metadata": {
    "ExecuteTime": {
     "end_time": "2024-11-20T23:47:00.218802Z",
     "start_time": "2024-11-20T23:46:59.751178Z"
    }
   },
   "outputs": [
    {
     "name": "stdout",
     "output_type": "stream",
     "text": [
      "Data already downloaded\n",
      "Filter = 'project=HIVE AND issuetype=Bug AND status in (Resolved, Closed) AND affectedVersion>= 2.0.0'\n"
     ]
    }
   ],
   "source": [
    "jira_dataframe = jira_download()"
   ]
  },
  {
   "cell_type": "markdown",
   "id": "f8f051f67cbe342b",
   "metadata": {},
   "source": [
    "### 1.2 - Clean Jira data using pandas\n",
    "Previously, we downloaded all the data from Jira. Now, we will clean the data using pandas.\n",
    "We will keep only some colums and combine some columns."
   ]
  },
  {
   "cell_type": "code",
   "execution_count": 3,
   "id": "b6c04fde21e36891",
   "metadata": {},
   "outputs": [],
   "source": [
    "keep: [str] = ['Issue key', 'Status', 'Resolution', 'Created', 'Fix Versions Combined', 'Affects Versions Combined']"
   ]
  },
  {
   "cell_type": "code",
   "execution_count": 4,
   "id": "2d3d14c6e651890b",
   "metadata": {},
   "outputs": [],
   "source": [
    "affects_version_columns: [str] = [col for col in jira_dataframe.columns if col.startswith('Affects Version/s')]\n",
    "jira_dataframe['Affects Versions Combined'] = jira_dataframe[affects_version_columns].apply(\n",
    "    lambda x: ', '.join(x.dropna().astype(str)), axis=1\n",
    ")"
   ]
  },
  {
   "cell_type": "code",
   "execution_count": 5,
   "id": "1571fc3d63fa3d49",
   "metadata": {},
   "outputs": [],
   "source": [
    "# Combine the versions into a single column\n",
    "fix_version_columns: [str] = [col for col in jira_dataframe.columns if col.startswith('Fix Version/s')]\n",
    "\n",
    "jira_dataframe['Fix Versions Combined'] = jira_dataframe[fix_version_columns].apply(\n",
    "    lambda x: ', '.join(x.dropna().astype(str)), axis=1\n",
    ")\n",
    "jira_dataframe = jira_dataframe.loc[:, keep]"
   ]
  },
  {
   "cell_type": "code",
   "execution_count": 6,
   "id": "7229ab85b247aa84",
   "metadata": {},
   "outputs": [],
   "source": [
    "# Identify columns whose names contain the string 'Issue key'\n",
    "issue_key_columns: Index = jira_dataframe.columns[jira_dataframe.columns.str.contains('Issue key')]\n",
    "# Extract the values from these columns as a NumPy array\n",
    "issue_key_values: ndarray = jira_dataframe[issue_key_columns].values\n",
    "# Flatten the array to create a one-dimensional list of all 'Issue key' values\n",
    "flattened_issue_keys: ndarray = issue_key_values.flatten()\n",
    "# Convert the list into a set to remove duplicates\n",
    "ids: set = set(flattened_issue_keys)"
   ]
  },
  {
   "cell_type": "markdown",
   "id": "c56c59729f4f2bd8",
   "metadata": {},
   "source": [
    "---\n",
    "\n",
    "\n",
    "## Part 2 : Repository analysis\n"
   ]
  },
  {
   "cell_type": "code",
   "execution_count": 7,
   "id": "af5c65ce22975fa2",
   "metadata": {
    "ExecuteTime": {
     "end_time": "2024-11-20T23:48:05.000004Z",
     "start_time": "2024-11-20T23:48:04.804273Z"
    }
   },
   "outputs": [],
   "source": [
    "from Hive import git_download, commit_analysis, update_commit_dataframe, filter_versions_by_min\n",
    "from git import Repo, Tag\n",
    "from pandas import DataFrame\n",
    "from configparser import ConfigParser\n",
    "from re import compile\n",
    "from packaging import version  "
   ]
  },
  {
   "cell_type": "markdown",
   "id": "2c7e1094fe45f12b",
   "metadata": {},
   "source": [
    "### 2.1 - Clone repository"
   ]
  },
  {
   "cell_type": "code",
   "execution_count": 8,
   "id": "da70cec527312bb6",
   "metadata": {
    "ExecuteTime": {
     "end_time": "2024-11-20T23:48:07.689653Z",
     "start_time": "2024-11-20T23:48:06.629293Z"
    },
    "scrolled": true
   },
   "outputs": [
    {
     "name": "stdout",
     "output_type": "stream",
     "text": [
      "Output/hive_data/hiveRepo False\n",
      "Pulling the repository: https://github.com/apache/hive.git\n"
     ]
    }
   ],
   "source": [
    "repo: Repo = git_download()"
   ]
  },
  {
   "cell_type": "code",
   "execution_count": 9,
   "id": "440e0445aebd0288",
   "metadata": {},
   "outputs": [
    {
     "name": "stdout",
     "output_type": "stream",
     "text": [
      "20524 couples found.\n"
     ]
    }
   ],
   "source": [
    "all_couples = commit_analysis(ids)"
   ]
  },
  {
   "cell_type": "markdown",
   "id": "bc716ced26d7531a",
   "metadata": {},
   "source": [
    "### 2.2 - Filter data"
   ]
  },
  {
   "cell_type": "code",
   "execution_count": 10,
   "id": "6bac11954b2066d9",
   "metadata": {
    "ExecuteTime": {
     "end_time": "2024-11-20T04:16:26.388221Z",
     "start_time": "2024-11-20T04:16:26.378513Z"
    }
   },
   "outputs": [],
   "source": [
    "commit_dataframe: DataFrame = DataFrame(all_couples, columns=[\"Issue key\", \"File\", \"Commit\"])"
   ]
  },
  {
   "cell_type": "code",
   "execution_count": 11,
   "id": "90c98946d2120458",
   "metadata": {
    "ExecuteTime": {
     "end_time": "2024-11-20T04:16:26.415350Z",
     "start_time": "2024-11-20T04:16:26.403683Z"
    }
   },
   "outputs": [],
   "source": [
    "# Languages without whitespaces\n",
    "config: ConfigParser = ConfigParser()\n",
    "config.read(\"config.ini\")\n",
    "languages: [str] = config[\"GENERAL\"][\"Languages\"].split(\",\")\n",
    "languages: [str] = [lang.strip() for lang in languages]\n",
    "commit_dataframe: DataFrame = commit_dataframe[commit_dataframe['File'].str.endswith(tuple(languages))]"
   ]
  },
  {
   "cell_type": "code",
   "execution_count": 12,
   "id": "3c9ce9d7-7636-45b4-826a-f55535ef28a3",
   "metadata": {},
   "outputs": [
    {
     "data": {
      "text/html": [
       "<div>\n",
       "<style scoped>\n",
       "    .dataframe tbody tr th:only-of-type {\n",
       "        vertical-align: middle;\n",
       "    }\n",
       "\n",
       "    .dataframe tbody tr th {\n",
       "        vertical-align: top;\n",
       "    }\n",
       "\n",
       "    .dataframe thead th {\n",
       "        text-align: right;\n",
       "    }\n",
       "</style>\n",
       "<table border=\"1\" class=\"dataframe\">\n",
       "  <thead>\n",
       "    <tr style=\"text-align: right;\">\n",
       "      <th></th>\n",
       "      <th>Issue key</th>\n",
       "      <th>File</th>\n",
       "      <th>Version Affected</th>\n",
       "    </tr>\n",
       "  </thead>\n",
       "  <tbody>\n",
       "    <tr>\n",
       "      <th>0</th>\n",
       "      <td>HIVE-21614</td>\n",
       "      <td>ql/src/test/org/apache/hadoop/hive/metastore/T...</td>\n",
       "      <td>2.3.4, 3.0.0</td>\n",
       "    </tr>\n",
       "    <tr>\n",
       "      <th>1</th>\n",
       "      <td>HIVE-21614</td>\n",
       "      <td>standalone-metastore/metastore-server/src/main...</td>\n",
       "      <td>2.3.4, 3.0.0</td>\n",
       "    </tr>\n",
       "    <tr>\n",
       "      <th>2</th>\n",
       "      <td>HIVE-21614</td>\n",
       "      <td>standalone-metastore/metastore-server/src/main...</td>\n",
       "      <td>2.3.4, 3.0.0</td>\n",
       "    </tr>\n",
       "    <tr>\n",
       "      <th>3</th>\n",
       "      <td>HIVE-28366</td>\n",
       "      <td>iceberg/iceberg-handler/src/main/java/org/apac...</td>\n",
       "      <td>4.0.0</td>\n",
       "    </tr>\n",
       "    <tr>\n",
       "      <th>4</th>\n",
       "      <td>HIVE-28366</td>\n",
       "      <td>iceberg/iceberg-handler/src/main/java/org/apac...</td>\n",
       "      <td>4.0.0</td>\n",
       "    </tr>\n",
       "    <tr>\n",
       "      <th>...</th>\n",
       "      <td>...</td>\n",
       "      <td>...</td>\n",
       "      <td>...</td>\n",
       "    </tr>\n",
       "    <tr>\n",
       "      <th>10268</th>\n",
       "      <td>HIVE-17706</td>\n",
       "      <td>itests/util/src/main/java/org/apache/hadoop/hi...</td>\n",
       "      <td>3.0.0</td>\n",
       "    </tr>\n",
       "    <tr>\n",
       "      <th>10269</th>\n",
       "      <td>HIVE-17706</td>\n",
       "      <td>itests/util/src/main/java/org/apache/hive/beel...</td>\n",
       "      <td>3.0.0</td>\n",
       "    </tr>\n",
       "    <tr>\n",
       "      <th>10270</th>\n",
       "      <td>HIVE-17706</td>\n",
       "      <td>itests/util/src/main/java/org/apache/hive/beel...</td>\n",
       "      <td>3.0.0</td>\n",
       "    </tr>\n",
       "    <tr>\n",
       "      <th>10271</th>\n",
       "      <td>HIVE-17633</td>\n",
       "      <td>itests/util/src/main/java/org/apache/hadoop/hi...</td>\n",
       "      <td>3.0.0</td>\n",
       "    </tr>\n",
       "    <tr>\n",
       "      <th>10272</th>\n",
       "      <td>HIVE-17721</td>\n",
       "      <td>metastore/src/java/org/apache/hadoop/hive/meta...</td>\n",
       "      <td>3.0.0</td>\n",
       "    </tr>\n",
       "  </tbody>\n",
       "</table>\n",
       "<p>10273 rows × 3 columns</p>\n",
       "</div>"
      ],
      "text/plain": [
       "        Issue key                                               File  \\\n",
       "0      HIVE-21614  ql/src/test/org/apache/hadoop/hive/metastore/T...   \n",
       "1      HIVE-21614  standalone-metastore/metastore-server/src/main...   \n",
       "2      HIVE-21614  standalone-metastore/metastore-server/src/main...   \n",
       "3      HIVE-28366  iceberg/iceberg-handler/src/main/java/org/apac...   \n",
       "4      HIVE-28366  iceberg/iceberg-handler/src/main/java/org/apac...   \n",
       "...           ...                                                ...   \n",
       "10268  HIVE-17706  itests/util/src/main/java/org/apache/hadoop/hi...   \n",
       "10269  HIVE-17706  itests/util/src/main/java/org/apache/hive/beel...   \n",
       "10270  HIVE-17706  itests/util/src/main/java/org/apache/hive/beel...   \n",
       "10271  HIVE-17633  itests/util/src/main/java/org/apache/hadoop/hi...   \n",
       "10272  HIVE-17721  metastore/src/java/org/apache/hadoop/hive/meta...   \n",
       "\n",
       "      Version Affected  \n",
       "0         2.3.4, 3.0.0  \n",
       "1         2.3.4, 3.0.0  \n",
       "2         2.3.4, 3.0.0  \n",
       "3                4.0.0  \n",
       "4                4.0.0  \n",
       "...                ...  \n",
       "10268            3.0.0  \n",
       "10269            3.0.0  \n",
       "10270            3.0.0  \n",
       "10271            3.0.0  \n",
       "10272            3.0.0  \n",
       "\n",
       "[10273 rows x 3 columns]"
      ]
     },
     "execution_count": 12,
     "metadata": {},
     "output_type": "execute_result"
    }
   ],
   "source": [
    "couples = update_commit_dataframe(commit_dataframe, jira_dataframe)\n",
    "couples"
   ]
  },
  {
   "cell_type": "markdown",
   "id": "f496352e0c7a43f5",
   "metadata": {},
   "source": [
    "### 2.3 - Extract filter versions from git"
   ]
  },
  {
   "cell_type": "code",
   "execution_count": 13,
   "id": "ab6fbf64ca7a8f6f",
   "metadata": {
    "ExecuteTime": {
     "end_time": "2024-11-20T04:16:26.555772Z",
     "start_time": "2024-11-20T04:16:26.432450Z"
    }
   },
   "outputs": [],
   "source": [
    "releases_regex: [str] = config[\"GIT\"][\"ReleasesRegex\"].split(\",\")\n",
    "tags: Tag = repo.tags\n",
    "versions: dict = {tag.name: tag.commit for tag in tags}\n",
    "releases_regex: [str] = [regex.strip() for regex in releases_regex]\n",
    "releases_regex = [compile(regex) for regex in releases_regex]"
   ]
  },
  {
   "cell_type": "code",
   "execution_count": 14,
   "id": "418d3b719f004c46",
   "metadata": {
    "ExecuteTime": {
     "end_time": "2024-11-20T04:16:26.585618Z",
     "start_time": "2024-11-20T04:16:26.571752Z"
    }
   },
   "outputs": [],
   "source": [
    "filtered_versions = filter_versions_by_min(versions, releases_regex, \"2.0.0\")"
   ]
  },
  {
   "cell_type": "markdown",
   "id": "2bda8a7e729d746e",
   "metadata": {},
   "source": [
    "## Part 3. - Understand analysis"
   ]
  },
  {
   "cell_type": "code",
   "execution_count": 15,
   "id": "341333382b3f4712",
   "metadata": {
    "ExecuteTime": {
     "end_time": "2024-11-20T04:16:26.628016Z",
     "start_time": "2024-11-20T04:16:26.602950Z"
    }
   },
   "outputs": [],
   "source": [
    "from Understand.commands import und_create_command, und_analyze_command, und_metrics_command, und_purge_command\n",
    "from Understand.metrics import metrics\n",
    "from Understand.label import label_all_metrics\n",
    "from os import path\n",
    "from Understand import merge_static_metrics"
   ]
  },
  {
   "cell_type": "markdown",
   "id": "aa8504cac8b12909",
   "metadata": {},
   "source": [
    "### 3.1 - Create the Understand project\n"
   ]
  },
  {
   "cell_type": "code",
   "execution_count": 16,
   "id": "e897f593172bee81",
   "metadata": {
    "ExecuteTime": {
     "end_time": "2024-11-20T04:16:26.651135Z",
     "start_time": "2024-11-20T04:16:26.645112Z"
    }
   },
   "outputs": [],
   "source": [
    "hive_git_directory: str = config[\"GIT\"][\"HiveGitDirectory\"]\n",
    "data_directory: str = config[\"GENERAL\"][\"DataDirectory\"]\n",
    "understand_project_name : str = config[\"UNDERSTAND\"][\"UnderstandProjectName\"]\n",
    "\n",
    "understand_project_path : str = path.join(data_directory, hive_git_directory, understand_project_name)\n",
    "\n",
    "if not path.exists(understand_project_path):\n",
    "    und_create_command()"
   ]
  },
  {
   "cell_type": "code",
   "execution_count": 17,
   "id": "90fadd76a26bddbb",
   "metadata": {
    "ExecuteTime": {
     "end_time": "2024-11-20T04:16:27.831068Z",
     "start_time": "2024-11-20T04:16:26.670397Z"
    }
   },
   "outputs": [
    {
     "name": "stdout",
     "output_type": "stream",
     "text": [
      "Running command : \n",
      "     /Applications/Understand.app/Contents/MacOS/und purge -db Output/hive_data/hive.und\n",
      "Database purged.\n",
      "\n"
     ]
    }
   ],
   "source": [
    "und_purge_command()"
   ]
  },
  {
   "cell_type": "markdown",
   "id": "b6e1f947-5bde-4984-8adc-86b859a1ad59",
   "metadata": {},
   "source": [
    "### 3.2 - Metrics extraction\n"
   ]
  },
  {
   "cell_type": "code",
   "execution_count": 18,
   "id": "41dab79156306ac6",
   "metadata": {
    "ExecuteTime": {
     "start_time": "2024-11-20T04:16:27.848863Z"
    },
    "jupyter": {
     "is_executing": true
    }
   },
   "outputs": [
    {
     "name": "stdout",
     "output_type": "stream",
     "text": [
      "Metrics analysis is skipped as per configuration.\n"
     ]
    }
   ],
   "source": [
    "metrics(filtered_versions)"
   ]
  },
  {
   "cell_type": "markdown",
   "id": "a2aa23e7-801e-469e-a10d-9bea94b91aff",
   "metadata": {},
   "source": [
    "### 3.3 - Labeling\n"
   ]
  },
  {
   "cell_type": "code",
   "execution_count": 19,
   "id": "b78f4b34-6a24-4a64-b04a-e20bb44a1473",
   "metadata": {},
   "outputs": [
    {
     "name": "stdout",
     "output_type": "stream",
     "text": [
      "Labelization process is skipped as per configuration.\n"
     ]
    }
   ],
   "source": [
    "label_all_metrics(couples)"
   ]
  },
  {
   "cell_type": "code",
   "execution_count": 20,
   "id": "3af76593-116f-4987-8a28-e04608c16334",
   "metadata": {},
   "outputs": [
    {
     "name": "stdout",
     "output_type": "stream",
     "text": [
      "Merging has already been done. Skipping...\n"
     ]
    }
   ],
   "source": [
    "merge_static_metrics()"
   ]
  },
  {
   "cell_type": "markdown",
   "id": "99717d15-6db4-4c98-9afc-b391d3e6511d",
   "metadata": {},
   "source": [
    "## Part 4. - Models"
   ]
  },
  {
   "cell_type": "code",
   "execution_count": 21,
   "id": "4f87e311-3c64-47dc-b398-e44bfc25733a",
   "metadata": {},
   "outputs": [],
   "source": [
    "from AI import run_pipeline\n",
    "import os\n",
    "from configparser import ConfigParser\n",
    "from sklearn.linear_model import LogisticRegression\n",
    "from sklearn.ensemble import RandomForestClassifier"
   ]
  },
  {
   "cell_type": "code",
   "execution_count": 22,
   "id": "dd950f05",
   "metadata": {},
   "outputs": [
    {
     "data": {
      "text/plain": [
       "['config.ini']"
      ]
     },
     "execution_count": 22,
     "metadata": {},
     "output_type": "execute_result"
    }
   ],
   "source": [
    "config: ConfigParser = ConfigParser()\n",
    "config.read(\"config.ini\")"
   ]
  },
  {
   "cell_type": "code",
   "execution_count": 23,
   "id": "00ec0dcb",
   "metadata": {},
   "outputs": [],
   "source": [
    "data_directory = config[\"GENERAL\"][\"DataDirectory\"]\n",
    "output_dir = config[\"UNDERSTAND\"][\"FullStaticMetricsOutputDirectory\"]\n",
    "file_name = config[\"UNDERSTAND\"][\"MergedStaticMetricsFileName\"]\n",
    "file_path = os.path.join(data_directory, output_dir, file_name)"
   ]
  },
  {
   "cell_type": "code",
   "execution_count": 24,
   "id": "43c49aa3",
   "metadata": {},
   "outputs": [
    {
     "name": "stderr",
     "output_type": "stream",
     "text": [
      "/Users/dhexia/Desktop/MGL/MGL869/TP/mgl869-proj/src/AI/model_pipeline.py:49: FutureWarning: DataFrame.applymap has been deprecated. Use DataFrame.map instead.\n",
      "  df = df.applymap(lambda x: str(x).replace(\",\", \".\") if isinstance(x, str) else x)\n",
      "/Users/dhexia/Desktop/MGL/MGL869/TP/mgl869-proj/src/AI/model_pipeline.py:52: FutureWarning: errors='ignore' is deprecated and will raise in a future version. Use to_numeric without passing `errors` and catch exceptions explicitly instead\n",
      "  df = df.apply(pd.to_numeric, errors=\"ignore\")\n"
     ]
    },
    {
     "ename": "ValueError",
     "evalue": "Input X contains NaN.\nLogisticRegression does not accept missing values encoded as NaN natively. For supervised learning, you might want to consider sklearn.ensemble.HistGradientBoostingClassifier and Regressor which accept missing values encoded as NaNs natively. Alternatively, it is possible to preprocess the data, for instance by using an imputer transformer in a pipeline or drop samples with missing values. See https://scikit-learn.org/stable/modules/impute.html You can find a list of all estimators that handle NaN values at the following page: https://scikit-learn.org/stable/modules/impute.html#estimators-that-handle-nan-values",
     "output_type": "error",
     "traceback": [
      "\u001b[0;31m---------------------------------------------------------------------------\u001b[0m",
      "\u001b[0;31mValueError\u001b[0m                                Traceback (most recent call last)",
      "Cell \u001b[0;32mIn[24], line 2\u001b[0m\n\u001b[1;32m      1\u001b[0m \u001b[38;5;66;03m# Run pipeline for all_versions with Logistic Regression\u001b[39;00m\n\u001b[0;32m----> 2\u001b[0m metrics_logistic \u001b[38;5;241m=\u001b[39m \u001b[43mrun_pipeline\u001b[49m\u001b[43m(\u001b[49m\u001b[43mfile_path\u001b[49m\u001b[43m,\u001b[49m\u001b[43m \u001b[49m\u001b[43mmodel\u001b[49m\u001b[38;5;241;43m=\u001b[39;49m\u001b[38;5;28;43;01mlambda\u001b[39;49;00m\u001b[43m:\u001b[49m\u001b[43m \u001b[49m\u001b[43mLogisticRegression\u001b[49m\u001b[43m(\u001b[49m\u001b[43mmax_iter\u001b[49m\u001b[38;5;241;43m=\u001b[39;49m\u001b[38;5;241;43m1000\u001b[39;49m\u001b[43m)\u001b[49m\u001b[43m,\u001b[49m\u001b[43m \u001b[49m\u001b[43mconfig_section\u001b[49m\u001b[38;5;241;43m=\u001b[39;49m\u001b[38;5;124;43m\"\u001b[39;49m\u001b[38;5;124;43mVERSION_ALL_LAB\u001b[39;49m\u001b[38;5;124;43m\"\u001b[39;49m\u001b[43m)\u001b[49m\n\u001b[1;32m      3\u001b[0m \u001b[38;5;28mprint\u001b[39m(\u001b[38;5;124m\"\u001b[39m\u001b[38;5;124mLogistic Regression Metrics (All_Versions):\u001b[39m\u001b[38;5;124m\"\u001b[39m, metrics_logistic)\n\u001b[1;32m      5\u001b[0m \u001b[38;5;66;03m# Run pipeline for all_versions with Random Forest\u001b[39;00m\n",
      "File \u001b[0;32m~/Desktop/MGL/MGL869/TP/mgl869-proj/src/AI/model_pipeline.py:129\u001b[0m, in \u001b[0;36mrun_pipeline\u001b[0;34m(file_path, model, config_section)\u001b[0m\n\u001b[1;32m    127\u001b[0m \u001b[38;5;66;03m# Train model\u001b[39;00m\n\u001b[1;32m    128\u001b[0m model_instance \u001b[38;5;241m=\u001b[39m model()\n\u001b[0;32m--> 129\u001b[0m trained_model \u001b[38;5;241m=\u001b[39m \u001b[43mtrain_model\u001b[49m\u001b[43m(\u001b[49m\u001b[43mmodel_instance\u001b[49m\u001b[43m,\u001b[49m\u001b[43m \u001b[49m\u001b[43mX_train\u001b[49m\u001b[43m,\u001b[49m\u001b[43m \u001b[49m\u001b[43my_train\u001b[49m\u001b[43m)\u001b[49m\n\u001b[1;32m    131\u001b[0m \u001b[38;5;66;03m# Evaluate model\u001b[39;00m\n\u001b[1;32m    132\u001b[0m metrics \u001b[38;5;241m=\u001b[39m evaluate_model(trained_model, X_test, y_test)\n",
      "File \u001b[0;32m~/Desktop/MGL/MGL869/TP/mgl869-proj/src/AI/model_pipeline.py:82\u001b[0m, in \u001b[0;36mtrain_model\u001b[0;34m(model, X_train, y_train)\u001b[0m\n\u001b[1;32m     74\u001b[0m \u001b[38;5;28;01mdef\u001b[39;00m \u001b[38;5;21mtrain_model\u001b[39m(\n\u001b[1;32m     75\u001b[0m     model: BaseEstimator,\n\u001b[1;32m     76\u001b[0m     X_train: pd\u001b[38;5;241m.\u001b[39mDataFrame,\n\u001b[1;32m     77\u001b[0m     y_train: pd\u001b[38;5;241m.\u001b[39mSeries\n\u001b[1;32m     78\u001b[0m ) \u001b[38;5;241m-\u001b[39m\u001b[38;5;241m>\u001b[39m BaseEstimator:\n\u001b[1;32m     79\u001b[0m \u001b[38;5;250m    \u001b[39m\u001b[38;5;124;03m\"\"\"\u001b[39;00m\n\u001b[1;32m     80\u001b[0m \u001b[38;5;124;03m    Trains a given model on the provided data.\u001b[39;00m\n\u001b[1;32m     81\u001b[0m \u001b[38;5;124;03m    \"\"\"\u001b[39;00m\n\u001b[0;32m---> 82\u001b[0m     \u001b[43mmodel\u001b[49m\u001b[38;5;241;43m.\u001b[39;49m\u001b[43mfit\u001b[49m\u001b[43m(\u001b[49m\u001b[43mX_train\u001b[49m\u001b[43m,\u001b[49m\u001b[43m \u001b[49m\u001b[43my_train\u001b[49m\u001b[43m)\u001b[49m\n\u001b[1;32m     83\u001b[0m     \u001b[38;5;28;01mreturn\u001b[39;00m model\n",
      "File \u001b[0;32m~/Desktop/MGL/MGL869/TP/mgl869-proj/lab/lib/python3.13/site-packages/sklearn/base.py:1473\u001b[0m, in \u001b[0;36m_fit_context.<locals>.decorator.<locals>.wrapper\u001b[0;34m(estimator, *args, **kwargs)\u001b[0m\n\u001b[1;32m   1466\u001b[0m     estimator\u001b[38;5;241m.\u001b[39m_validate_params()\n\u001b[1;32m   1468\u001b[0m \u001b[38;5;28;01mwith\u001b[39;00m config_context(\n\u001b[1;32m   1469\u001b[0m     skip_parameter_validation\u001b[38;5;241m=\u001b[39m(\n\u001b[1;32m   1470\u001b[0m         prefer_skip_nested_validation \u001b[38;5;129;01mor\u001b[39;00m global_skip_validation\n\u001b[1;32m   1471\u001b[0m     )\n\u001b[1;32m   1472\u001b[0m ):\n\u001b[0;32m-> 1473\u001b[0m     \u001b[38;5;28;01mreturn\u001b[39;00m \u001b[43mfit_method\u001b[49m\u001b[43m(\u001b[49m\u001b[43mestimator\u001b[49m\u001b[43m,\u001b[49m\u001b[43m \u001b[49m\u001b[38;5;241;43m*\u001b[39;49m\u001b[43margs\u001b[49m\u001b[43m,\u001b[49m\u001b[43m \u001b[49m\u001b[38;5;241;43m*\u001b[39;49m\u001b[38;5;241;43m*\u001b[39;49m\u001b[43mkwargs\u001b[49m\u001b[43m)\u001b[49m\n",
      "File \u001b[0;32m~/Desktop/MGL/MGL869/TP/mgl869-proj/lab/lib/python3.13/site-packages/sklearn/linear_model/_logistic.py:1223\u001b[0m, in \u001b[0;36mLogisticRegression.fit\u001b[0;34m(self, X, y, sample_weight)\u001b[0m\n\u001b[1;32m   1220\u001b[0m \u001b[38;5;28;01melse\u001b[39;00m:\n\u001b[1;32m   1221\u001b[0m     _dtype \u001b[38;5;241m=\u001b[39m [np\u001b[38;5;241m.\u001b[39mfloat64, np\u001b[38;5;241m.\u001b[39mfloat32]\n\u001b[0;32m-> 1223\u001b[0m X, y \u001b[38;5;241m=\u001b[39m \u001b[38;5;28;43mself\u001b[39;49m\u001b[38;5;241;43m.\u001b[39;49m\u001b[43m_validate_data\u001b[49m\u001b[43m(\u001b[49m\n\u001b[1;32m   1224\u001b[0m \u001b[43m    \u001b[49m\u001b[43mX\u001b[49m\u001b[43m,\u001b[49m\n\u001b[1;32m   1225\u001b[0m \u001b[43m    \u001b[49m\u001b[43my\u001b[49m\u001b[43m,\u001b[49m\n\u001b[1;32m   1226\u001b[0m \u001b[43m    \u001b[49m\u001b[43maccept_sparse\u001b[49m\u001b[38;5;241;43m=\u001b[39;49m\u001b[38;5;124;43m\"\u001b[39;49m\u001b[38;5;124;43mcsr\u001b[39;49m\u001b[38;5;124;43m\"\u001b[39;49m\u001b[43m,\u001b[49m\n\u001b[1;32m   1227\u001b[0m \u001b[43m    \u001b[49m\u001b[43mdtype\u001b[49m\u001b[38;5;241;43m=\u001b[39;49m\u001b[43m_dtype\u001b[49m\u001b[43m,\u001b[49m\n\u001b[1;32m   1228\u001b[0m \u001b[43m    \u001b[49m\u001b[43morder\u001b[49m\u001b[38;5;241;43m=\u001b[39;49m\u001b[38;5;124;43m\"\u001b[39;49m\u001b[38;5;124;43mC\u001b[39;49m\u001b[38;5;124;43m\"\u001b[39;49m\u001b[43m,\u001b[49m\n\u001b[1;32m   1229\u001b[0m \u001b[43m    \u001b[49m\u001b[43maccept_large_sparse\u001b[49m\u001b[38;5;241;43m=\u001b[39;49m\u001b[43msolver\u001b[49m\u001b[43m \u001b[49m\u001b[38;5;129;43;01mnot\u001b[39;49;00m\u001b[43m \u001b[49m\u001b[38;5;129;43;01min\u001b[39;49;00m\u001b[43m \u001b[49m\u001b[43m[\u001b[49m\u001b[38;5;124;43m\"\u001b[39;49m\u001b[38;5;124;43mliblinear\u001b[39;49m\u001b[38;5;124;43m\"\u001b[39;49m\u001b[43m,\u001b[49m\u001b[43m \u001b[49m\u001b[38;5;124;43m\"\u001b[39;49m\u001b[38;5;124;43msag\u001b[39;49m\u001b[38;5;124;43m\"\u001b[39;49m\u001b[43m,\u001b[49m\u001b[43m \u001b[49m\u001b[38;5;124;43m\"\u001b[39;49m\u001b[38;5;124;43msaga\u001b[39;49m\u001b[38;5;124;43m\"\u001b[39;49m\u001b[43m]\u001b[49m\u001b[43m,\u001b[49m\n\u001b[1;32m   1230\u001b[0m \u001b[43m\u001b[49m\u001b[43m)\u001b[49m\n\u001b[1;32m   1231\u001b[0m check_classification_targets(y)\n\u001b[1;32m   1232\u001b[0m \u001b[38;5;28mself\u001b[39m\u001b[38;5;241m.\u001b[39mclasses_ \u001b[38;5;241m=\u001b[39m np\u001b[38;5;241m.\u001b[39munique(y)\n",
      "File \u001b[0;32m~/Desktop/MGL/MGL869/TP/mgl869-proj/lab/lib/python3.13/site-packages/sklearn/base.py:650\u001b[0m, in \u001b[0;36mBaseEstimator._validate_data\u001b[0;34m(self, X, y, reset, validate_separately, cast_to_ndarray, **check_params)\u001b[0m\n\u001b[1;32m    648\u001b[0m         y \u001b[38;5;241m=\u001b[39m check_array(y, input_name\u001b[38;5;241m=\u001b[39m\u001b[38;5;124m\"\u001b[39m\u001b[38;5;124my\u001b[39m\u001b[38;5;124m\"\u001b[39m, \u001b[38;5;241m*\u001b[39m\u001b[38;5;241m*\u001b[39mcheck_y_params)\n\u001b[1;32m    649\u001b[0m     \u001b[38;5;28;01melse\u001b[39;00m:\n\u001b[0;32m--> 650\u001b[0m         X, y \u001b[38;5;241m=\u001b[39m \u001b[43mcheck_X_y\u001b[49m\u001b[43m(\u001b[49m\u001b[43mX\u001b[49m\u001b[43m,\u001b[49m\u001b[43m \u001b[49m\u001b[43my\u001b[49m\u001b[43m,\u001b[49m\u001b[43m \u001b[49m\u001b[38;5;241;43m*\u001b[39;49m\u001b[38;5;241;43m*\u001b[39;49m\u001b[43mcheck_params\u001b[49m\u001b[43m)\u001b[49m\n\u001b[1;32m    651\u001b[0m     out \u001b[38;5;241m=\u001b[39m X, y\n\u001b[1;32m    653\u001b[0m \u001b[38;5;28;01mif\u001b[39;00m \u001b[38;5;129;01mnot\u001b[39;00m no_val_X \u001b[38;5;129;01mand\u001b[39;00m check_params\u001b[38;5;241m.\u001b[39mget(\u001b[38;5;124m\"\u001b[39m\u001b[38;5;124mensure_2d\u001b[39m\u001b[38;5;124m\"\u001b[39m, \u001b[38;5;28;01mTrue\u001b[39;00m):\n",
      "File \u001b[0;32m~/Desktop/MGL/MGL869/TP/mgl869-proj/lab/lib/python3.13/site-packages/sklearn/utils/validation.py:1301\u001b[0m, in \u001b[0;36mcheck_X_y\u001b[0;34m(X, y, accept_sparse, accept_large_sparse, dtype, order, copy, force_writeable, force_all_finite, ensure_2d, allow_nd, multi_output, ensure_min_samples, ensure_min_features, y_numeric, estimator)\u001b[0m\n\u001b[1;32m   1296\u001b[0m         estimator_name \u001b[38;5;241m=\u001b[39m _check_estimator_name(estimator)\n\u001b[1;32m   1297\u001b[0m     \u001b[38;5;28;01mraise\u001b[39;00m \u001b[38;5;167;01mValueError\u001b[39;00m(\n\u001b[1;32m   1298\u001b[0m         \u001b[38;5;124mf\u001b[39m\u001b[38;5;124m\"\u001b[39m\u001b[38;5;132;01m{\u001b[39;00mestimator_name\u001b[38;5;132;01m}\u001b[39;00m\u001b[38;5;124m requires y to be passed, but the target y is None\u001b[39m\u001b[38;5;124m\"\u001b[39m\n\u001b[1;32m   1299\u001b[0m     )\n\u001b[0;32m-> 1301\u001b[0m X \u001b[38;5;241m=\u001b[39m \u001b[43mcheck_array\u001b[49m\u001b[43m(\u001b[49m\n\u001b[1;32m   1302\u001b[0m \u001b[43m    \u001b[49m\u001b[43mX\u001b[49m\u001b[43m,\u001b[49m\n\u001b[1;32m   1303\u001b[0m \u001b[43m    \u001b[49m\u001b[43maccept_sparse\u001b[49m\u001b[38;5;241;43m=\u001b[39;49m\u001b[43maccept_sparse\u001b[49m\u001b[43m,\u001b[49m\n\u001b[1;32m   1304\u001b[0m \u001b[43m    \u001b[49m\u001b[43maccept_large_sparse\u001b[49m\u001b[38;5;241;43m=\u001b[39;49m\u001b[43maccept_large_sparse\u001b[49m\u001b[43m,\u001b[49m\n\u001b[1;32m   1305\u001b[0m \u001b[43m    \u001b[49m\u001b[43mdtype\u001b[49m\u001b[38;5;241;43m=\u001b[39;49m\u001b[43mdtype\u001b[49m\u001b[43m,\u001b[49m\n\u001b[1;32m   1306\u001b[0m \u001b[43m    \u001b[49m\u001b[43morder\u001b[49m\u001b[38;5;241;43m=\u001b[39;49m\u001b[43morder\u001b[49m\u001b[43m,\u001b[49m\n\u001b[1;32m   1307\u001b[0m \u001b[43m    \u001b[49m\u001b[43mcopy\u001b[49m\u001b[38;5;241;43m=\u001b[39;49m\u001b[43mcopy\u001b[49m\u001b[43m,\u001b[49m\n\u001b[1;32m   1308\u001b[0m \u001b[43m    \u001b[49m\u001b[43mforce_writeable\u001b[49m\u001b[38;5;241;43m=\u001b[39;49m\u001b[43mforce_writeable\u001b[49m\u001b[43m,\u001b[49m\n\u001b[1;32m   1309\u001b[0m \u001b[43m    \u001b[49m\u001b[43mforce_all_finite\u001b[49m\u001b[38;5;241;43m=\u001b[39;49m\u001b[43mforce_all_finite\u001b[49m\u001b[43m,\u001b[49m\n\u001b[1;32m   1310\u001b[0m \u001b[43m    \u001b[49m\u001b[43mensure_2d\u001b[49m\u001b[38;5;241;43m=\u001b[39;49m\u001b[43mensure_2d\u001b[49m\u001b[43m,\u001b[49m\n\u001b[1;32m   1311\u001b[0m \u001b[43m    \u001b[49m\u001b[43mallow_nd\u001b[49m\u001b[38;5;241;43m=\u001b[39;49m\u001b[43mallow_nd\u001b[49m\u001b[43m,\u001b[49m\n\u001b[1;32m   1312\u001b[0m \u001b[43m    \u001b[49m\u001b[43mensure_min_samples\u001b[49m\u001b[38;5;241;43m=\u001b[39;49m\u001b[43mensure_min_samples\u001b[49m\u001b[43m,\u001b[49m\n\u001b[1;32m   1313\u001b[0m \u001b[43m    \u001b[49m\u001b[43mensure_min_features\u001b[49m\u001b[38;5;241;43m=\u001b[39;49m\u001b[43mensure_min_features\u001b[49m\u001b[43m,\u001b[49m\n\u001b[1;32m   1314\u001b[0m \u001b[43m    \u001b[49m\u001b[43mestimator\u001b[49m\u001b[38;5;241;43m=\u001b[39;49m\u001b[43mestimator\u001b[49m\u001b[43m,\u001b[49m\n\u001b[1;32m   1315\u001b[0m \u001b[43m    \u001b[49m\u001b[43minput_name\u001b[49m\u001b[38;5;241;43m=\u001b[39;49m\u001b[38;5;124;43m\"\u001b[39;49m\u001b[38;5;124;43mX\u001b[39;49m\u001b[38;5;124;43m\"\u001b[39;49m\u001b[43m,\u001b[49m\n\u001b[1;32m   1316\u001b[0m \u001b[43m\u001b[49m\u001b[43m)\u001b[49m\n\u001b[1;32m   1318\u001b[0m y \u001b[38;5;241m=\u001b[39m _check_y(y, multi_output\u001b[38;5;241m=\u001b[39mmulti_output, y_numeric\u001b[38;5;241m=\u001b[39my_numeric, estimator\u001b[38;5;241m=\u001b[39mestimator)\n\u001b[1;32m   1320\u001b[0m check_consistent_length(X, y)\n",
      "File \u001b[0;32m~/Desktop/MGL/MGL869/TP/mgl869-proj/lab/lib/python3.13/site-packages/sklearn/utils/validation.py:1064\u001b[0m, in \u001b[0;36mcheck_array\u001b[0;34m(array, accept_sparse, accept_large_sparse, dtype, order, copy, force_writeable, force_all_finite, ensure_2d, allow_nd, ensure_min_samples, ensure_min_features, estimator, input_name)\u001b[0m\n\u001b[1;32m   1058\u001b[0m     \u001b[38;5;28;01mraise\u001b[39;00m \u001b[38;5;167;01mValueError\u001b[39;00m(\n\u001b[1;32m   1059\u001b[0m         \u001b[38;5;124m\"\u001b[39m\u001b[38;5;124mFound array with dim \u001b[39m\u001b[38;5;132;01m%d\u001b[39;00m\u001b[38;5;124m. \u001b[39m\u001b[38;5;132;01m%s\u001b[39;00m\u001b[38;5;124m expected <= 2.\u001b[39m\u001b[38;5;124m\"\u001b[39m\n\u001b[1;32m   1060\u001b[0m         \u001b[38;5;241m%\u001b[39m (array\u001b[38;5;241m.\u001b[39mndim, estimator_name)\n\u001b[1;32m   1061\u001b[0m     )\n\u001b[1;32m   1063\u001b[0m \u001b[38;5;28;01mif\u001b[39;00m force_all_finite:\n\u001b[0;32m-> 1064\u001b[0m     \u001b[43m_assert_all_finite\u001b[49m\u001b[43m(\u001b[49m\n\u001b[1;32m   1065\u001b[0m \u001b[43m        \u001b[49m\u001b[43marray\u001b[49m\u001b[43m,\u001b[49m\n\u001b[1;32m   1066\u001b[0m \u001b[43m        \u001b[49m\u001b[43minput_name\u001b[49m\u001b[38;5;241;43m=\u001b[39;49m\u001b[43minput_name\u001b[49m\u001b[43m,\u001b[49m\n\u001b[1;32m   1067\u001b[0m \u001b[43m        \u001b[49m\u001b[43mestimator_name\u001b[49m\u001b[38;5;241;43m=\u001b[39;49m\u001b[43mestimator_name\u001b[49m\u001b[43m,\u001b[49m\n\u001b[1;32m   1068\u001b[0m \u001b[43m        \u001b[49m\u001b[43mallow_nan\u001b[49m\u001b[38;5;241;43m=\u001b[39;49m\u001b[43mforce_all_finite\u001b[49m\u001b[43m \u001b[49m\u001b[38;5;241;43m==\u001b[39;49m\u001b[43m \u001b[49m\u001b[38;5;124;43m\"\u001b[39;49m\u001b[38;5;124;43mallow-nan\u001b[39;49m\u001b[38;5;124;43m\"\u001b[39;49m\u001b[43m,\u001b[49m\n\u001b[1;32m   1069\u001b[0m \u001b[43m    \u001b[49m\u001b[43m)\u001b[49m\n\u001b[1;32m   1071\u001b[0m \u001b[38;5;28;01mif\u001b[39;00m copy:\n\u001b[1;32m   1072\u001b[0m     \u001b[38;5;28;01mif\u001b[39;00m _is_numpy_namespace(xp):\n\u001b[1;32m   1073\u001b[0m         \u001b[38;5;66;03m# only make a copy if `array` and `array_orig` may share memory`\u001b[39;00m\n",
      "File \u001b[0;32m~/Desktop/MGL/MGL869/TP/mgl869-proj/lab/lib/python3.13/site-packages/sklearn/utils/validation.py:123\u001b[0m, in \u001b[0;36m_assert_all_finite\u001b[0;34m(X, allow_nan, msg_dtype, estimator_name, input_name)\u001b[0m\n\u001b[1;32m    120\u001b[0m \u001b[38;5;28;01mif\u001b[39;00m first_pass_isfinite:\n\u001b[1;32m    121\u001b[0m     \u001b[38;5;28;01mreturn\u001b[39;00m\n\u001b[0;32m--> 123\u001b[0m \u001b[43m_assert_all_finite_element_wise\u001b[49m\u001b[43m(\u001b[49m\n\u001b[1;32m    124\u001b[0m \u001b[43m    \u001b[49m\u001b[43mX\u001b[49m\u001b[43m,\u001b[49m\n\u001b[1;32m    125\u001b[0m \u001b[43m    \u001b[49m\u001b[43mxp\u001b[49m\u001b[38;5;241;43m=\u001b[39;49m\u001b[43mxp\u001b[49m\u001b[43m,\u001b[49m\n\u001b[1;32m    126\u001b[0m \u001b[43m    \u001b[49m\u001b[43mallow_nan\u001b[49m\u001b[38;5;241;43m=\u001b[39;49m\u001b[43mallow_nan\u001b[49m\u001b[43m,\u001b[49m\n\u001b[1;32m    127\u001b[0m \u001b[43m    \u001b[49m\u001b[43mmsg_dtype\u001b[49m\u001b[38;5;241;43m=\u001b[39;49m\u001b[43mmsg_dtype\u001b[49m\u001b[43m,\u001b[49m\n\u001b[1;32m    128\u001b[0m \u001b[43m    \u001b[49m\u001b[43mestimator_name\u001b[49m\u001b[38;5;241;43m=\u001b[39;49m\u001b[43mestimator_name\u001b[49m\u001b[43m,\u001b[49m\n\u001b[1;32m    129\u001b[0m \u001b[43m    \u001b[49m\u001b[43minput_name\u001b[49m\u001b[38;5;241;43m=\u001b[39;49m\u001b[43minput_name\u001b[49m\u001b[43m,\u001b[49m\n\u001b[1;32m    130\u001b[0m \u001b[43m\u001b[49m\u001b[43m)\u001b[49m\n",
      "File \u001b[0;32m~/Desktop/MGL/MGL869/TP/mgl869-proj/lab/lib/python3.13/site-packages/sklearn/utils/validation.py:172\u001b[0m, in \u001b[0;36m_assert_all_finite_element_wise\u001b[0;34m(X, xp, allow_nan, msg_dtype, estimator_name, input_name)\u001b[0m\n\u001b[1;32m    155\u001b[0m \u001b[38;5;28;01mif\u001b[39;00m estimator_name \u001b[38;5;129;01mand\u001b[39;00m input_name \u001b[38;5;241m==\u001b[39m \u001b[38;5;124m\"\u001b[39m\u001b[38;5;124mX\u001b[39m\u001b[38;5;124m\"\u001b[39m \u001b[38;5;129;01mand\u001b[39;00m has_nan_error:\n\u001b[1;32m    156\u001b[0m     \u001b[38;5;66;03m# Improve the error message on how to handle missing values in\u001b[39;00m\n\u001b[1;32m    157\u001b[0m     \u001b[38;5;66;03m# scikit-learn.\u001b[39;00m\n\u001b[1;32m    158\u001b[0m     msg_err \u001b[38;5;241m+\u001b[39m\u001b[38;5;241m=\u001b[39m (\n\u001b[1;32m    159\u001b[0m         \u001b[38;5;124mf\u001b[39m\u001b[38;5;124m\"\u001b[39m\u001b[38;5;130;01m\\n\u001b[39;00m\u001b[38;5;132;01m{\u001b[39;00mestimator_name\u001b[38;5;132;01m}\u001b[39;00m\u001b[38;5;124m does not accept missing values\u001b[39m\u001b[38;5;124m\"\u001b[39m\n\u001b[1;32m    160\u001b[0m         \u001b[38;5;124m\"\u001b[39m\u001b[38;5;124m encoded as NaN natively. For supervised learning, you might want\u001b[39m\u001b[38;5;124m\"\u001b[39m\n\u001b[0;32m   (...)\u001b[0m\n\u001b[1;32m    170\u001b[0m         \u001b[38;5;124m\"\u001b[39m\u001b[38;5;124m#estimators-that-handle-nan-values\u001b[39m\u001b[38;5;124m\"\u001b[39m\n\u001b[1;32m    171\u001b[0m     )\n\u001b[0;32m--> 172\u001b[0m \u001b[38;5;28;01mraise\u001b[39;00m \u001b[38;5;167;01mValueError\u001b[39;00m(msg_err)\n",
      "\u001b[0;31mValueError\u001b[0m: Input X contains NaN.\nLogisticRegression does not accept missing values encoded as NaN natively. For supervised learning, you might want to consider sklearn.ensemble.HistGradientBoostingClassifier and Regressor which accept missing values encoded as NaNs natively. Alternatively, it is possible to preprocess the data, for instance by using an imputer transformer in a pipeline or drop samples with missing values. See https://scikit-learn.org/stable/modules/impute.html You can find a list of all estimators that handle NaN values at the following page: https://scikit-learn.org/stable/modules/impute.html#estimators-that-handle-nan-values"
     ]
    }
   ],
   "source": [
    "# Run pipeline for all_versions with Logistic Regression\n",
    "metrics_logistic = run_pipeline(file_path, model=lambda: LogisticRegression(max_iter=1000), config_section=\"VERSION_ALL_LAB\")\n",
    "print(\"Logistic Regression Metrics (All_Versions):\", metrics_logistic)\n",
    "\n",
    "# Run pipeline for all_versions with Random Forest\n",
    "metrics_rf = run_pipeline(file_path, model=lambda: RandomForestClassifier(random_state=42), config_section=\"VERSION_ALL_LAB\")\n",
    "print(\"Random Forest Metrics (All_Versions):\", metrics_rf)"
   ]
  },
  {
   "cell_type": "markdown",
   "id": "ed9aa789-37de-43e9-9e5f-7744ca9fd466",
   "metadata": {},
   "source": [
    "## Part 5. - Dynamic Metrics"
   ]
  },
  {
   "cell_type": "code",
   "execution_count": null,
   "id": "75f6b052-94da-4262-a7e1-b68137787f15",
   "metadata": {},
   "outputs": [],
   "source": [
    "from Dynamic import convert_json_to_csv, merge_static_and_dynamic_csv, build_dependencies, display_hierarchy, collect_dynamic_metrics_v2\n",
    "from Hive import filter_versions_by_min"
   ]
  },
  {
   "cell_type": "code",
   "execution_count": null,
   "id": "61014ea2-93c8-4e80-ae0a-773903d6ea90",
   "metadata": {},
   "outputs": [
    {
     "name": "stdout",
     "output_type": "stream",
     "text": [
      "1.0.0 (2015-02-03) [Commit: 697aeca]\n",
      "    1.0.1 (2015-05-14) [Commit: 73b600d]\n",
      "    1.1.0 (2015-03-09) [Commit: e60744d]\n",
      "        1.1.1 (2015-05-14) [Commit: 3e8d832]\n",
      "        1.2.0 (2015-05-14) [Commit: 7f237de]\n",
      "            1.2.1 (2015-06-19) [Commit: 243e7c1]\n",
      "                1.2.2 (2017-04-01) [Commit: 395368f]\n",
      "                2.0.0 (2016-02-09) [Commit: 7f9f1fc]\n",
      "                    2.0.1 (2016-05-03) [Commit: e3cfeeb]\n",
      "                        2.1.0 (2016-06-17) [Commit: 9265bc2]\n",
      "                            2.1.1 (2016-11-29) [Commit: 1af77bb]\n",
      "                                2.2.0 (2017-07-21) [Commit: da840b0]\n",
      "                                2.3.0 (2017-07-13) [Commit: 6f4c35c]\n",
      "                                    2.3.1 (2017-10-19) [Commit: 7590572]\n",
      "                                        2.3.2 (2017-11-09) [Commit: 857a9fd]\n",
      "                                            2.3.3 (2018-03-28) [Commit: 3f7dde3]\n",
      "                                                2.3.4 (2018-10-31) [Commit: 56acdd2]\n",
      "                                                    2.3.5 (2019-05-07) [Commit: 7659562]\n",
      "                                                        2.3.6 (2019-08-13) [Commit: 2c2fdd5]\n",
      "                                                            2.3.7 (2020-04-07) [Commit: cb213d8]\n",
      "                                                                2.3.8 (2021-01-06) [Commit: f1e8713]\n",
      "                                                                    2.3.9 (2021-06-01) [Commit: 92dd015]\n",
      "                                                                        2.3.10 (2024-05-04) [Commit: 5160d3a]\n",
      "                                                3.0.0 (2018-05-17) [Commit: ce61711]\n",
      "                                                    3.1.0 (2018-07-23) [Commit: bcc7df9]\n",
      "                                                        3.1.1 (2018-10-23) [Commit: f4e0529]\n",
      "                                                            3.1.2 (2019-08-22) [Commit: 8190d2b]\n",
      "                                                                3.1.3 (2022-03-24) [Commit: 4df4d75]\n",
      "                                                                    4.0.0 (2024-03-21) [Commit: 183f8cb]\n",
      "                                                                        4.0.1 (2024-09-26) [Commit: 3af4517]\n"
     ]
    },
    {
     "data": {
      "text/plain": [
       "{'1.0.0': {'previous': None,\n",
       "  'next': ['1.0.1', '1.1.0'],\n",
       "  'date': '2015-02-03',\n",
       "  'commit': <git.Commit \"697aecadc3ba62bc11f3ba0a6c8522daeec7b53f\">,\n",
       "  'branch_origin': None},\n",
       " '1.0.1': {'previous': '1.0.0',\n",
       "  'next': None,\n",
       "  'date': '2015-05-14',\n",
       "  'commit': <git.Commit \"73b600dc79ba8a9a32078a2ea0eb8ae3df20c9d5\">,\n",
       "  'branch_origin': None},\n",
       " '1.1.0': {'previous': '1.0.0',\n",
       "  'next': ['1.1.1', '1.2.0'],\n",
       "  'date': '2015-03-09',\n",
       "  'commit': <git.Commit \"e60744d017ef79f1b17f474c0b969d4ca5592462\">,\n",
       "  'branch_origin': None},\n",
       " '1.1.1': {'previous': '1.1.0',\n",
       "  'next': None,\n",
       "  'date': '2015-05-14',\n",
       "  'commit': <git.Commit \"3e8d832a1a8e2b12029adcb55862cf040098ef0f\">,\n",
       "  'branch_origin': None},\n",
       " '1.2.0': {'previous': '1.1.0',\n",
       "  'next': ['1.2.1'],\n",
       "  'date': '2015-05-14',\n",
       "  'commit': <git.Commit \"7f237de447bcd726bb3d0ba332cbb733f39fc02f\">,\n",
       "  'branch_origin': None},\n",
       " '1.2.1': {'previous': '1.2.0',\n",
       "  'next': ['1.2.2', '2.0.0'],\n",
       "  'date': '2015-06-19',\n",
       "  'commit': <git.Commit \"243e7c1ac39cb7ac8b65c5bc6988f5cc3162f558\">,\n",
       "  'branch_origin': None},\n",
       " '1.2.2': {'previous': '1.2.1',\n",
       "  'next': None,\n",
       "  'date': '2017-04-01',\n",
       "  'commit': <git.Commit \"395368fc6478c7e2a1e84a5a2a8aac45e4399a9e\">,\n",
       "  'branch_origin': None},\n",
       " '2.0.0': {'previous': '1.2.1',\n",
       "  'next': ['2.0.1'],\n",
       "  'date': '2016-02-09',\n",
       "  'commit': <git.Commit \"7f9f1fcb8697fb33f0edc2c391930a3728d247d7\">,\n",
       "  'branch_origin': None},\n",
       " '2.0.1': {'previous': '2.0.0',\n",
       "  'next': ['2.1.0'],\n",
       "  'date': '2016-05-03',\n",
       "  'commit': <git.Commit \"e3cfeebcefe9a19c5055afdcbb00646908340694\">,\n",
       "  'branch_origin': None},\n",
       " '2.1.0': {'previous': '2.0.1',\n",
       "  'next': ['2.1.1'],\n",
       "  'date': '2016-06-17',\n",
       "  'commit': <git.Commit \"9265bc24d75ac945bde9ce1a0999fddd8f2aae29\">,\n",
       "  'branch_origin': None},\n",
       " '2.1.1': {'previous': '2.1.0',\n",
       "  'next': ['2.2.0', '2.3.0'],\n",
       "  'date': '2016-11-29',\n",
       "  'commit': <git.Commit \"1af77bbf8356e86cabbed92cfa8cc2e1470a1d5c\">,\n",
       "  'branch_origin': None},\n",
       " '2.2.0': {'previous': '2.1.1',\n",
       "  'next': None,\n",
       "  'date': '2017-07-21',\n",
       "  'commit': <git.Commit \"da840b0f8fa99cab9f004810cd22abc207493cae\">,\n",
       "  'branch_origin': None},\n",
       " '2.3.0': {'previous': '2.1.1',\n",
       "  'next': ['2.3.1'],\n",
       "  'date': '2017-07-13',\n",
       "  'commit': <git.Commit \"6f4c35c9e904d226451c465effdc5bfd31d395a0\">,\n",
       "  'branch_origin': None},\n",
       " '2.3.1': {'previous': '2.3.0',\n",
       "  'next': ['2.3.2'],\n",
       "  'date': '2017-10-19',\n",
       "  'commit': <git.Commit \"7590572d9265e15286628013268b2ce785c6aa08\">,\n",
       "  'branch_origin': None},\n",
       " '2.3.2': {'previous': '2.3.1',\n",
       "  'next': ['2.3.3'],\n",
       "  'date': '2017-11-09',\n",
       "  'commit': <git.Commit \"857a9fd8ad725a53bd95c1b2d6612f9b1155f44d\">,\n",
       "  'branch_origin': None},\n",
       " '2.3.3': {'previous': '2.3.2',\n",
       "  'next': ['2.3.4', '3.0.0'],\n",
       "  'date': '2018-03-28',\n",
       "  'commit': <git.Commit \"3f7dde31aed44b5440563d3f9d8a8887beccf0be\">,\n",
       "  'branch_origin': None},\n",
       " '2.3.4': {'previous': '2.3.3',\n",
       "  'next': ['2.3.5'],\n",
       "  'date': '2018-10-31',\n",
       "  'commit': <git.Commit \"56acdd2120b9ce6790185c679223b8b5e884aaf2\">,\n",
       "  'branch_origin': None},\n",
       " '2.3.5': {'previous': '2.3.4',\n",
       "  'next': ['2.3.6'],\n",
       "  'date': '2019-05-07',\n",
       "  'commit': <git.Commit \"76595628ae13b95162e77bba365fe4d2c60b3f29\">,\n",
       "  'branch_origin': None},\n",
       " '2.3.6': {'previous': '2.3.5',\n",
       "  'next': ['2.3.7'],\n",
       "  'date': '2019-08-13',\n",
       "  'commit': <git.Commit \"2c2fdd524e8783f6e1f3ef15281cc2d5ed08728f\">,\n",
       "  'branch_origin': None},\n",
       " '2.3.7': {'previous': '2.3.6',\n",
       "  'next': ['2.3.8'],\n",
       "  'date': '2020-04-07',\n",
       "  'commit': <git.Commit \"cb213d88304034393d68cc31a95be24f5aac62b6\">,\n",
       "  'branch_origin': None},\n",
       " '2.3.8': {'previous': '2.3.7',\n",
       "  'next': ['2.3.9'],\n",
       "  'date': '2021-01-06',\n",
       "  'commit': <git.Commit \"f1e87137034e4ecbe39a859d4ef44319800016d7\">,\n",
       "  'branch_origin': None},\n",
       " '2.3.9': {'previous': '2.3.8',\n",
       "  'next': ['2.3.10'],\n",
       "  'date': '2021-06-01',\n",
       "  'commit': <git.Commit \"92dd0159f440ca7863be3232f3a683a510a62b9d\">,\n",
       "  'branch_origin': None},\n",
       " '2.3.10': {'previous': '2.3.9',\n",
       "  'next': None,\n",
       "  'date': '2024-05-04',\n",
       "  'commit': <git.Commit \"5160d3af392248255f68e41e1e0557eae4d95273\">,\n",
       "  'branch_origin': None},\n",
       " '3.0.0': {'previous': '2.3.3',\n",
       "  'next': ['3.1.0'],\n",
       "  'date': '2018-05-17',\n",
       "  'commit': <git.Commit \"ce61711a5fa54ab34fc74d86d521ecaeea6b072a\">,\n",
       "  'branch_origin': None},\n",
       " '3.1.0': {'previous': '3.0.0',\n",
       "  'next': ['3.1.1'],\n",
       "  'date': '2018-07-23',\n",
       "  'commit': <git.Commit \"bcc7df95824831a8d2f1524e4048dfc23ab98c19\">,\n",
       "  'branch_origin': None},\n",
       " '3.1.1': {'previous': '3.1.0',\n",
       "  'next': ['3.1.2'],\n",
       "  'date': '2018-10-23',\n",
       "  'commit': <git.Commit \"f4e0529634b6231a0072295da48af466cf2f10b7\">,\n",
       "  'branch_origin': None},\n",
       " '3.1.2': {'previous': '3.1.1',\n",
       "  'next': ['3.1.3'],\n",
       "  'date': '2019-08-22',\n",
       "  'commit': <git.Commit \"8190d2be7b7165effa62bd21b7d60ef81fb0e4af\">,\n",
       "  'branch_origin': None},\n",
       " '3.1.3': {'previous': '3.1.2',\n",
       "  'next': ['4.0.0'],\n",
       "  'date': '2022-03-24',\n",
       "  'commit': <git.Commit \"4df4d75bf1e16fe0af75aad0b4179c34c07fc975\">,\n",
       "  'branch_origin': None},\n",
       " '4.0.0': {'previous': '3.1.3',\n",
       "  'next': ['4.0.1'],\n",
       "  'date': '2024-03-21',\n",
       "  'commit': <git.Commit \"183f8cb41d3dbed961ffd27999876468ff06690c\">,\n",
       "  'branch_origin': None},\n",
       " '4.0.1': {'previous': '4.0.0',\n",
       "  'next': None,\n",
       "  'date': '2024-09-26',\n",
       "  'commit': <git.Commit \"3af4517eb8cfd9407ad34ed78a0b48b57dfaa264\">,\n",
       "  'branch_origin': None}}"
      ]
     },
     "execution_count": 22,
     "metadata": {},
     "output_type": "execute_result"
    }
   ],
   "source": [
    "all_versions = filter_versions_by_min(versions, releases_regex,'1.0')\n",
    "version_json = build_dependencies(all_versions)\n",
    "display_hierarchy(version_json)\n",
    "\n",
    "version_json"
   ]
  },
  {
   "cell_type": "code",
   "execution_count": null,
   "id": "ef68223c-f8cd-422a-a157-e2fe7671fbf2",
   "metadata": {},
   "outputs": [
    {
     "name": "stdout",
     "output_type": "stream",
     "text": [
      "Dynamic Metrics have already been collected. Skipping...\n"
     ]
    }
   ],
   "source": [
    "dynamic_metrics = collect_dynamic_metrics_v2(version_json)"
   ]
  },
  {
   "cell_type": "code",
   "execution_count": null,
   "id": "ba249385-6dbc-4b9c-8e02-ac4010b5daea",
   "metadata": {},
   "outputs": [
    {
     "name": "stdout",
     "output_type": "stream",
     "text": [
      "Conversion of dynamic metrics to csv has already been done. Skipping...\n"
     ]
    }
   ],
   "source": [
    "convert_json_to_csv()"
   ]
  },
  {
   "cell_type": "code",
   "execution_count": null,
   "id": "50c4861e-4f61-49fc-a018-911a58a29d80",
   "metadata": {},
   "outputs": [
    {
     "name": "stdout",
     "output_type": "stream",
     "text": [
      "Merging has already been done. Skipping...\n"
     ]
    }
   ],
   "source": [
    "merge_static_and_dynamic_csv()"
   ]
  },
  {
   "cell_type": "code",
   "execution_count": null,
   "id": "6cf962c8",
   "metadata": {},
   "outputs": [],
   "source": []
  }
 ],
 "metadata": {
  "kernelspec": {
   "display_name": "lab",
   "language": "python",
   "name": "python3"
  },
  "language_info": {
   "codemirror_mode": {
    "name": "ipython",
    "version": 3
   },
   "file_extension": ".py",
   "mimetype": "text/x-python",
   "name": "python",
   "nbconvert_exporter": "python",
   "pygments_lexer": "ipython3",
   "version": "3.13.0"
  }
 },
 "nbformat": 4,
 "nbformat_minor": 5
}
